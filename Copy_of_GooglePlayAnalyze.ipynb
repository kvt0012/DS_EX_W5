{
  "nbformat": 4,
  "nbformat_minor": 0,
  "metadata": {
    "kernelspec": {
      "display_name": "Python 3",
      "language": "python",
      "name": "python3"
    },
    "language_info": {
      "codemirror_mode": {
        "name": "ipython",
        "version": 3
      },
      "file_extension": ".py",
      "mimetype": "text/x-python",
      "name": "python",
      "nbconvert_exporter": "python",
      "pygments_lexer": "ipython3",
      "version": "3.7.3"
    },
    "colab": {
      "name": "Copy of GooglePlayAnalyze.ipynb",
      "version": "0.3.2",
      "provenance": [],
      "collapsed_sections": [
        "UIn_APCOn-w5",
        "4yJ7GA5n17xz",
        "GgY4sCa1QlVn",
        "KhUExrbOvhaE",
        "SmU5hkAh9sQ7"
      ]
    }
  },
  "cells": [
    {
      "cell_type": "markdown",
      "metadata": {
        "id": "CrF3gW8HGnwV",
        "colab_type": "text"
      },
      "source": [
        "# Analyze Google Play Store dataset"
      ]
    },
    {
      "cell_type": "markdown",
      "metadata": {
        "id": "8Akzj-PrGnwX",
        "colab_type": "text"
      },
      "source": [
        "## I - Some question to answer first\n",
        "1. What are we analyze? What we want to get? What is our problems?\n",
        "2. What is the metric of sucess?\n",
        "3. Is the input dataset enough to solve our problems?"
      ]
    },
    {
      "cell_type": "markdown",
      "metadata": {
        "colab_type": "text",
        "id": "Ij446Hv__vXf"
      },
      "source": [
        "## II - Take a look at the dataset and clean it"
      ]
    },
    {
      "cell_type": "markdown",
      "metadata": {
        "id": "-D0GaPGHnK7Q",
        "colab_type": "text"
      },
      "source": [
        "### Import tool"
      ]
    },
    {
      "cell_type": "code",
      "metadata": {
        "colab_type": "code",
        "id": "uuSDGVCrZ9yz",
        "colab": {}
      },
      "source": [
        "import numpy as np\n",
        "import pandas as pd\n",
        "import seaborn as sns\n",
        "import matplotlib.pyplot as plt\n",
        "%matplotlib inline\n",
        "import warnings\n",
        "warnings.filterwarnings('ignore')\n",
        "\n",
        "sns.set_style(\"whitegrid\")"
      ],
      "execution_count": 0,
      "outputs": []
    },
    {
      "cell_type": "markdown",
      "metadata": {
        "colab_type": "text",
        "id": "TMDV8MkuSl09"
      },
      "source": [
        "### Google Drive authenication"
      ]
    },
    {
      "cell_type": "code",
      "metadata": {
        "id": "mPzGx-MFSAUW",
        "colab_type": "code",
        "colab": {}
      },
      "source": [
        "!pip install -U -q PyDrive\n",
        "from pydrive.auth import GoogleAuth\n",
        "from pydrive.drive import GoogleDrive\n",
        "from google.colab import auth\n",
        "from oauth2client.client import GoogleCredentials\n",
        "\n",
        "import gspread\n",
        "from gspread_dataframe import get_as_dataframe, set_with_dataframe \n",
        "\n",
        "# Authenticate and create the PyDrive client.\n",
        "auth.authenticate_user()\n",
        "gauth = GoogleAuth()\n",
        "gauth.credentials = GoogleCredentials.get_application_default()\n",
        "drive = GoogleDrive(gauth)"
      ],
      "execution_count": 0,
      "outputs": []
    },
    {
      "cell_type": "markdown",
      "metadata": {
        "id": "Pmtkg7IiGnwe",
        "colab_type": "text"
      },
      "source": [
        "### Download and read the dataset"
      ]
    },
    {
      "cell_type": "code",
      "metadata": {
        "id": "-NcmBO3LLUbQ",
        "colab_type": "code",
        "colab": {}
      },
      "source": [
        "link = 'https://drive.google.com/open?id=1jje-EQBSIp5FSsldVUfiQmH_3YcufwWx'\n",
        "fluff, id = link.split('=')\n",
        "downloaded = drive.CreateFile({'id':id}) \n",
        "downloaded.GetContentFile('google-play-store.csv')  "
      ],
      "execution_count": 0,
      "outputs": []
    },
    {
      "cell_type": "code",
      "metadata": {
        "id": "wwdXMfNNGnwh",
        "colab_type": "code",
        "outputId": "f2829877-4c21-4a7c-a849-8c62d9bf4fff",
        "colab": {
          "base_uri": "https://localhost:8080/",
          "height": 204
        }
      },
      "source": [
        "gpstore = pd.read_csv('google-play-store.csv')\n",
        "gpstore.head()"
      ],
      "execution_count": 0,
      "outputs": [
        {
          "output_type": "execute_result",
          "data": {
            "text/html": [
              "<div>\n",
              "<style scoped>\n",
              "    .dataframe tbody tr th:only-of-type {\n",
              "        vertical-align: middle;\n",
              "    }\n",
              "\n",
              "    .dataframe tbody tr th {\n",
              "        vertical-align: top;\n",
              "    }\n",
              "\n",
              "    .dataframe thead th {\n",
              "        text-align: right;\n",
              "    }\n",
              "</style>\n",
              "<table border=\"1\" class=\"dataframe\">\n",
              "  <thead>\n",
              "    <tr style=\"text-align: right;\">\n",
              "      <th></th>\n",
              "      <th>App</th>\n",
              "      <th>Category</th>\n",
              "      <th>Rating</th>\n",
              "      <th>Reviews</th>\n",
              "      <th>Size</th>\n",
              "      <th>Installs</th>\n",
              "      <th>Type</th>\n",
              "      <th>Price</th>\n",
              "      <th>Content Rating</th>\n",
              "      <th>Genres</th>\n",
              "      <th>Last Updated</th>\n",
              "      <th>Current Ver</th>\n",
              "      <th>Android Ver</th>\n",
              "    </tr>\n",
              "  </thead>\n",
              "  <tbody>\n",
              "    <tr>\n",
              "      <th>0</th>\n",
              "      <td>Photo Editor &amp; Candy Camera &amp; Grid &amp; ScrapBook</td>\n",
              "      <td>ART_AND_DESIGN</td>\n",
              "      <td>4.1</td>\n",
              "      <td>159</td>\n",
              "      <td>19M</td>\n",
              "      <td>10,000+</td>\n",
              "      <td>Free</td>\n",
              "      <td>0</td>\n",
              "      <td>Everyone</td>\n",
              "      <td>Art &amp; Design</td>\n",
              "      <td>January 7, 2018</td>\n",
              "      <td>1.0.0</td>\n",
              "      <td>4.0.3 and up</td>\n",
              "    </tr>\n",
              "    <tr>\n",
              "      <th>1</th>\n",
              "      <td>Coloring book moana</td>\n",
              "      <td>ART_AND_DESIGN</td>\n",
              "      <td>3.9</td>\n",
              "      <td>967</td>\n",
              "      <td>14M</td>\n",
              "      <td>500,000+</td>\n",
              "      <td>Free</td>\n",
              "      <td>0</td>\n",
              "      <td>Everyone</td>\n",
              "      <td>Art &amp; Design;Pretend Play</td>\n",
              "      <td>January 15, 2018</td>\n",
              "      <td>2.0.0</td>\n",
              "      <td>4.0.3 and up</td>\n",
              "    </tr>\n",
              "    <tr>\n",
              "      <th>2</th>\n",
              "      <td>U Launcher Lite – FREE Live Cool Themes, Hide ...</td>\n",
              "      <td>ART_AND_DESIGN</td>\n",
              "      <td>4.7</td>\n",
              "      <td>87510</td>\n",
              "      <td>8.7M</td>\n",
              "      <td>5,000,000+</td>\n",
              "      <td>Free</td>\n",
              "      <td>0</td>\n",
              "      <td>Everyone</td>\n",
              "      <td>Art &amp; Design</td>\n",
              "      <td>August 1, 2018</td>\n",
              "      <td>1.2.4</td>\n",
              "      <td>4.0.3 and up</td>\n",
              "    </tr>\n",
              "    <tr>\n",
              "      <th>3</th>\n",
              "      <td>Sketch - Draw &amp; Paint</td>\n",
              "      <td>ART_AND_DESIGN</td>\n",
              "      <td>4.5</td>\n",
              "      <td>215644</td>\n",
              "      <td>25M</td>\n",
              "      <td>50,000,000+</td>\n",
              "      <td>Free</td>\n",
              "      <td>0</td>\n",
              "      <td>Teen</td>\n",
              "      <td>Art &amp; Design</td>\n",
              "      <td>June 8, 2018</td>\n",
              "      <td>Varies with device</td>\n",
              "      <td>4.2 and up</td>\n",
              "    </tr>\n",
              "    <tr>\n",
              "      <th>4</th>\n",
              "      <td>Pixel Draw - Number Art Coloring Book</td>\n",
              "      <td>ART_AND_DESIGN</td>\n",
              "      <td>4.3</td>\n",
              "      <td>967</td>\n",
              "      <td>2.8M</td>\n",
              "      <td>100,000+</td>\n",
              "      <td>Free</td>\n",
              "      <td>0</td>\n",
              "      <td>Everyone</td>\n",
              "      <td>Art &amp; Design;Creativity</td>\n",
              "      <td>June 20, 2018</td>\n",
              "      <td>1.1</td>\n",
              "      <td>4.4 and up</td>\n",
              "    </tr>\n",
              "  </tbody>\n",
              "</table>\n",
              "</div>"
            ],
            "text/plain": [
              "                                                 App  ...   Android Ver\n",
              "0     Photo Editor & Candy Camera & Grid & ScrapBook  ...  4.0.3 and up\n",
              "1                                Coloring book moana  ...  4.0.3 and up\n",
              "2  U Launcher Lite – FREE Live Cool Themes, Hide ...  ...  4.0.3 and up\n",
              "3                              Sketch - Draw & Paint  ...    4.2 and up\n",
              "4              Pixel Draw - Number Art Coloring Book  ...    4.4 and up\n",
              "\n",
              "[5 rows x 13 columns]"
            ]
          },
          "metadata": {
            "tags": []
          },
          "execution_count": 4
        }
      ]
    },
    {
      "cell_type": "markdown",
      "metadata": {
        "id": "DDJqAfCRGnwq",
        "colab_type": "text"
      },
      "source": [
        "### Get some information of this dataset"
      ]
    },
    {
      "cell_type": "code",
      "metadata": {
        "id": "sV86lUNGGnwr",
        "colab_type": "code",
        "outputId": "5b3528c3-4875-4ade-ae8e-c8bc0e760af0",
        "colab": {
          "base_uri": "https://localhost:8080/",
          "height": 341
        }
      },
      "source": [
        "gpstore.info()"
      ],
      "execution_count": 0,
      "outputs": [
        {
          "output_type": "stream",
          "text": [
            "<class 'pandas.core.frame.DataFrame'>\n",
            "RangeIndex: 10841 entries, 0 to 10840\n",
            "Data columns (total 13 columns):\n",
            "App               10841 non-null object\n",
            "Category          10841 non-null object\n",
            "Rating            9367 non-null float64\n",
            "Reviews           10841 non-null object\n",
            "Size              10841 non-null object\n",
            "Installs          10841 non-null object\n",
            "Type              10840 non-null object\n",
            "Price             10841 non-null object\n",
            "Content Rating    10840 non-null object\n",
            "Genres            10841 non-null object\n",
            "Last Updated      10841 non-null object\n",
            "Current Ver       10833 non-null object\n",
            "Android Ver       10838 non-null object\n",
            "dtypes: float64(1), object(12)\n",
            "memory usage: 1.1+ MB\n"
          ],
          "name": "stdout"
        }
      ]
    },
    {
      "cell_type": "code",
      "metadata": {
        "id": "tcmZsKGEGnwv",
        "colab_type": "code",
        "outputId": "940d2124-4168-4425-89fa-b20587d7996b",
        "colab": {
          "base_uri": "https://localhost:8080/",
          "height": 80
        }
      },
      "source": [
        "gpstore.describe().T"
      ],
      "execution_count": 0,
      "outputs": [
        {
          "output_type": "execute_result",
          "data": {
            "text/html": [
              "<div>\n",
              "<style scoped>\n",
              "    .dataframe tbody tr th:only-of-type {\n",
              "        vertical-align: middle;\n",
              "    }\n",
              "\n",
              "    .dataframe tbody tr th {\n",
              "        vertical-align: top;\n",
              "    }\n",
              "\n",
              "    .dataframe thead th {\n",
              "        text-align: right;\n",
              "    }\n",
              "</style>\n",
              "<table border=\"1\" class=\"dataframe\">\n",
              "  <thead>\n",
              "    <tr style=\"text-align: right;\">\n",
              "      <th></th>\n",
              "      <th>count</th>\n",
              "      <th>mean</th>\n",
              "      <th>std</th>\n",
              "      <th>min</th>\n",
              "      <th>25%</th>\n",
              "      <th>50%</th>\n",
              "      <th>75%</th>\n",
              "      <th>max</th>\n",
              "    </tr>\n",
              "  </thead>\n",
              "  <tbody>\n",
              "    <tr>\n",
              "      <th>Rating</th>\n",
              "      <td>9367.0</td>\n",
              "      <td>4.193338</td>\n",
              "      <td>0.537431</td>\n",
              "      <td>1.0</td>\n",
              "      <td>4.0</td>\n",
              "      <td>4.3</td>\n",
              "      <td>4.5</td>\n",
              "      <td>19.0</td>\n",
              "    </tr>\n",
              "  </tbody>\n",
              "</table>\n",
              "</div>"
            ],
            "text/plain": [
              "         count      mean       std  min  25%  50%  75%   max\n",
              "Rating  9367.0  4.193338  0.537431  1.0  4.0  4.3  4.5  19.0"
            ]
          },
          "metadata": {
            "tags": []
          },
          "execution_count": 6
        }
      ]
    },
    {
      "cell_type": "markdown",
      "metadata": {
        "id": "X2LH_pL9Gnwz",
        "colab_type": "text"
      },
      "source": [
        "### Take a look of values in each column and clean it"
      ]
    },
    {
      "cell_type": "markdown",
      "metadata": {
        "id": "-w0w21oOYbWh",
        "colab_type": "text"
      },
      "source": [
        "### App"
      ]
    },
    {
      "cell_type": "code",
      "metadata": {
        "id": "Az1KlxyRYg50",
        "colab_type": "code",
        "colab": {}
      },
      "source": [
        "gpstore.drop_duplicates(subset ='App', keep = False, inplace = True)"
      ],
      "execution_count": 0,
      "outputs": []
    },
    {
      "cell_type": "code",
      "metadata": {
        "id": "y7vSAzGUYpLO",
        "colab_type": "code",
        "outputId": "fff550ea-a527-4fe4-a368-7c5595d434a1",
        "colab": {
          "base_uri": "https://localhost:8080/",
          "height": 1000
        }
      },
      "source": [
        "gpstore['App'].value_counts()"
      ],
      "execution_count": 0,
      "outputs": [
        {
          "output_type": "execute_result",
          "data": {
            "text/plain": [
              "CP Brown English-Telugu Dictionary                       1\n",
              "乐屋网: Buying a house, selling a house, renting a house    1\n",
              "Reindeer VPN - Proxy VPN                                 1\n",
              "Wifi Mingle                                              1\n",
              "CN TV Canal 3 - Cable Netword                            1\n",
              "What's Your CS:GO rank?                                  1\n",
              "InterracialCupid - Interracial Dating App                1\n",
              "AE Manager                                               1\n",
              "Co-op CRS                                                1\n",
              "WGT Golf Game by Topgolf                                 1\n",
              "Pregnancy Tracker & Countdown to Baby Due Date           1\n",
              "DS-Students                                              1\n",
              "YouCut - Video Editor & Video Maker, No Watermark        1\n",
              "Keyboard - wallpapers , photos                           1\n",
              "Florida Travel Guide                                     1\n",
              "DM Storage (for twitter)                                 1\n",
              "Shopfully - Weekly Ads & Deals                           1\n",
              "BA Status                                                1\n",
              "Blagues et Histoires Drôles                              1\n",
              "ByssWeather for Wear OS                                  1\n",
              "The green alien dance                                    1\n",
              "EV Bon Dictionary                                        1\n",
              "The Ledger - Lakeland, Florida                           1\n",
              "BDCast - Bangla Live TV,Radio                            1\n",
              "Command & Conquer: Rivals                                1\n",
              "English to Urdu Dictionary                               1\n",
              "New Holland Agriculture T5 EC                            1\n",
              "La Poupée du Voyant                                      1\n",
              "EZ-VPNGate                                               1\n",
              "File Manager by Xiaomi: release file storage space       1\n",
              "                                                        ..\n",
              "mobLee Events                                            1\n",
              "Credit Sesame                                            1\n",
              "Trovami se ci riesci                                     1\n",
              "CBS News                                                 1\n",
              "U - Webinars, Meetings & Messenger                       1\n",
              "Resources For Virtual DJ                                 1\n",
              "Combat Strike CS 🔫 Counter Terrorist Attack FPS💣         1\n",
              "ACCEPT CE MARKING                                        1\n",
              "Cloud Print                                              1\n",
              "Meditation Studio                                        1\n",
              "Arrowhead AH App                                         1\n",
              "DW Mobile                                                1\n",
              "Free Coupons for Burger King                             1\n",
              "Superhero Doctor 3 ER Surgery                            1\n",
              "ER Doctor Kids Emergency Room                            1\n",
              "Financial Times                                          1\n",
              "VitusVet: Pet Health Care App                            1\n",
              "FCB Connect - FC Barcelona                               1\n",
              "BL PowerPoint Remote                                     1\n",
              "AF Comics Reader - Free                                  1\n",
              "EZ Video Download for Facebook                           1\n",
              "ShopSavvy Barcode & QR Scanner                           1\n",
              "Wedding Countdown Widget                                 1\n",
              "Girls hairstyles 2018                                    1\n",
              "FANDOM for: GTA                                          1\n",
              "JOBS.bg                                                  1\n",
              "Dashlane Free Password Manager                           1\n",
              "EF English Live for tablets                              1\n",
              "Messenger L SMS, MMS                                     1\n",
              "CI Screwed - Icon Pack                                   1\n",
              "Name: App, Length: 8862, dtype: int64"
            ]
          },
          "metadata": {
            "tags": []
          },
          "execution_count": 8
        }
      ]
    },
    {
      "cell_type": "code",
      "metadata": {
        "id": "83iSAmkQYzIx",
        "colab_type": "code",
        "outputId": "b68e7e22-4083-412d-8750-72289bf9475a",
        "colab": {
          "base_uri": "https://localhost:8080/",
          "height": 341
        }
      },
      "source": [
        "gpstore.info()"
      ],
      "execution_count": 0,
      "outputs": [
        {
          "output_type": "stream",
          "text": [
            "<class 'pandas.core.frame.DataFrame'>\n",
            "Int64Index: 8862 entries, 0 to 10840\n",
            "Data columns (total 13 columns):\n",
            "App               8862 non-null object\n",
            "Category          8862 non-null object\n",
            "Rating            7408 non-null float64\n",
            "Reviews           8862 non-null object\n",
            "Size              8862 non-null object\n",
            "Installs          8862 non-null object\n",
            "Type              8861 non-null object\n",
            "Price             8862 non-null object\n",
            "Content Rating    8861 non-null object\n",
            "Genres            8862 non-null object\n",
            "Last Updated      8862 non-null object\n",
            "Current Ver       8854 non-null object\n",
            "Android Ver       8859 non-null object\n",
            "dtypes: float64(1), object(12)\n",
            "memory usage: 969.3+ KB\n"
          ],
          "name": "stdout"
        }
      ]
    },
    {
      "cell_type": "markdown",
      "metadata": {
        "id": "atfemAqnncFw",
        "colab_type": "text"
      },
      "source": [
        "#### Category"
      ]
    },
    {
      "cell_type": "code",
      "metadata": {
        "id": "F2S9e32sGnw0",
        "colab_type": "code",
        "outputId": "fc4c98d6-8152-4ed6-a4c9-806ee8cc99d1",
        "colab": {
          "base_uri": "https://localhost:8080/",
          "height": 647
        }
      },
      "source": [
        "gpstore['Category'].value_counts(dropna=False)"
      ],
      "execution_count": 0,
      "outputs": [
        {
          "output_type": "execute_result",
          "data": {
            "text/plain": [
              "FAMILY                 1790\n",
              "GAME                    851\n",
              "TOOLS                   814\n",
              "BUSINESS                386\n",
              "PERSONALIZATION         363\n",
              "LIFESTYLE               357\n",
              "PRODUCTIVITY            341\n",
              "MEDICAL                 334\n",
              "FINANCE                 328\n",
              "SPORTS                  298\n",
              "COMMUNICATION           272\n",
              "HEALTH_AND_FITNESS      246\n",
              "PHOTOGRAPHY             244\n",
              "NEWS_AND_MAGAZINES      234\n",
              "BOOKS_AND_REFERENCE     213\n",
              "SOCIAL                  200\n",
              "TRAVEL_AND_LOCAL        195\n",
              "SHOPPING                166\n",
              "VIDEO_PLAYERS           153\n",
              "MAPS_AND_NAVIGATION     125\n",
              "DATING                  116\n",
              "FOOD_AND_DRINK           98\n",
              "AUTO_AND_VEHICLES        85\n",
              "EDUCATION                84\n",
              "LIBRARIES_AND_DEMO       83\n",
              "WEATHER                  76\n",
              "EVENTS                   64\n",
              "HOUSE_AND_HOME           61\n",
              "ART_AND_DESIGN           60\n",
              "PARENTING                60\n",
              "ENTERTAINMENT            59\n",
              "BEAUTY                   53\n",
              "COMICS                   52\n",
              "1.9                       1\n",
              "Name: Category, dtype: int64"
            ]
          },
          "metadata": {
            "tags": []
          },
          "execution_count": 10
        }
      ]
    },
    {
      "cell_type": "markdown",
      "metadata": {
        "id": "cK4yn-Y1Gnw4",
        "colab_type": "text"
      },
      "source": [
        "**Why there's '1.9' in category list**"
      ]
    },
    {
      "cell_type": "code",
      "metadata": {
        "id": "MdxHoU00Gnw5",
        "colab_type": "code",
        "outputId": "3deb426e-ffa1-4b12-f0b2-f43f7705cb4e",
        "colab": {
          "base_uri": "https://localhost:8080/",
          "height": 80
        }
      },
      "source": [
        "gpstore[gpstore['Category'] == '1.9']"
      ],
      "execution_count": 0,
      "outputs": [
        {
          "output_type": "execute_result",
          "data": {
            "text/html": [
              "<div>\n",
              "<style scoped>\n",
              "    .dataframe tbody tr th:only-of-type {\n",
              "        vertical-align: middle;\n",
              "    }\n",
              "\n",
              "    .dataframe tbody tr th {\n",
              "        vertical-align: top;\n",
              "    }\n",
              "\n",
              "    .dataframe thead th {\n",
              "        text-align: right;\n",
              "    }\n",
              "</style>\n",
              "<table border=\"1\" class=\"dataframe\">\n",
              "  <thead>\n",
              "    <tr style=\"text-align: right;\">\n",
              "      <th></th>\n",
              "      <th>App</th>\n",
              "      <th>Category</th>\n",
              "      <th>Rating</th>\n",
              "      <th>Reviews</th>\n",
              "      <th>Size</th>\n",
              "      <th>Installs</th>\n",
              "      <th>Type</th>\n",
              "      <th>Price</th>\n",
              "      <th>Content Rating</th>\n",
              "      <th>Genres</th>\n",
              "      <th>Last Updated</th>\n",
              "      <th>Current Ver</th>\n",
              "      <th>Android Ver</th>\n",
              "    </tr>\n",
              "  </thead>\n",
              "  <tbody>\n",
              "    <tr>\n",
              "      <th>10472</th>\n",
              "      <td>Life Made WI-Fi Touchscreen Photo Frame</td>\n",
              "      <td>1.9</td>\n",
              "      <td>19.0</td>\n",
              "      <td>3.0M</td>\n",
              "      <td>1,000+</td>\n",
              "      <td>Free</td>\n",
              "      <td>0</td>\n",
              "      <td>Everyone</td>\n",
              "      <td>NaN</td>\n",
              "      <td>February 11, 2018</td>\n",
              "      <td>1.0.19</td>\n",
              "      <td>4.0 and up</td>\n",
              "      <td>NaN</td>\n",
              "    </tr>\n",
              "  </tbody>\n",
              "</table>\n",
              "</div>"
            ],
            "text/plain": [
              "                                           App Category  ...  Current Ver Android Ver\n",
              "10472  Life Made WI-Fi Touchscreen Photo Frame      1.9  ...   4.0 and up         NaN\n",
              "\n",
              "[1 rows x 13 columns]"
            ]
          },
          "metadata": {
            "tags": []
          },
          "execution_count": 11
        }
      ]
    },
    {
      "cell_type": "markdown",
      "metadata": {
        "id": "vnzXNslSGnw9",
        "colab_type": "text"
      },
      "source": [
        "Look like all the columns of this row has been shifted. Anyway this row is not reliable, we prefer to dropping it to fixing it"
      ]
    },
    {
      "cell_type": "code",
      "metadata": {
        "id": "B6dftaOAGnxA",
        "colab_type": "code",
        "outputId": "cc5e50cd-21c4-40f6-8375-b32449fc8fde",
        "colab": {
          "base_uri": "https://localhost:8080/",
          "height": 49
        }
      },
      "source": [
        "gpstore = gpstore[gpstore['Category'] != '1.9']\n",
        "gpstore[gpstore['Category'] == '1.9']"
      ],
      "execution_count": 0,
      "outputs": [
        {
          "output_type": "execute_result",
          "data": {
            "text/html": [
              "<div>\n",
              "<style scoped>\n",
              "    .dataframe tbody tr th:only-of-type {\n",
              "        vertical-align: middle;\n",
              "    }\n",
              "\n",
              "    .dataframe tbody tr th {\n",
              "        vertical-align: top;\n",
              "    }\n",
              "\n",
              "    .dataframe thead th {\n",
              "        text-align: right;\n",
              "    }\n",
              "</style>\n",
              "<table border=\"1\" class=\"dataframe\">\n",
              "  <thead>\n",
              "    <tr style=\"text-align: right;\">\n",
              "      <th></th>\n",
              "      <th>App</th>\n",
              "      <th>Category</th>\n",
              "      <th>Rating</th>\n",
              "      <th>Reviews</th>\n",
              "      <th>Size</th>\n",
              "      <th>Installs</th>\n",
              "      <th>Type</th>\n",
              "      <th>Price</th>\n",
              "      <th>Content Rating</th>\n",
              "      <th>Genres</th>\n",
              "      <th>Last Updated</th>\n",
              "      <th>Current Ver</th>\n",
              "      <th>Android Ver</th>\n",
              "    </tr>\n",
              "  </thead>\n",
              "  <tbody>\n",
              "  </tbody>\n",
              "</table>\n",
              "</div>"
            ],
            "text/plain": [
              "Empty DataFrame\n",
              "Columns: [App, Category, Rating, Reviews, Size, Installs, Type, Price, Content Rating, Genres, Last Updated, Current Ver, Android Ver]\n",
              "Index: []"
            ]
          },
          "metadata": {
            "tags": []
          },
          "execution_count": 12
        }
      ]
    },
    {
      "cell_type": "code",
      "metadata": {
        "id": "lBDDyxBKxoqM",
        "colab_type": "code",
        "outputId": "a47d67e9-b76d-458e-fd58-d1f93232dc43",
        "colab": {
          "base_uri": "https://localhost:8080/",
          "height": 341
        }
      },
      "source": [
        "# check our dataframe again\n",
        "gpstore.info()"
      ],
      "execution_count": 0,
      "outputs": [
        {
          "output_type": "stream",
          "text": [
            "<class 'pandas.core.frame.DataFrame'>\n",
            "Int64Index: 8861 entries, 0 to 10840\n",
            "Data columns (total 13 columns):\n",
            "App               8861 non-null object\n",
            "Category          8861 non-null object\n",
            "Rating            7407 non-null float64\n",
            "Reviews           8861 non-null object\n",
            "Size              8861 non-null object\n",
            "Installs          8861 non-null object\n",
            "Type              8860 non-null object\n",
            "Price             8861 non-null object\n",
            "Content Rating    8861 non-null object\n",
            "Genres            8861 non-null object\n",
            "Last Updated      8861 non-null object\n",
            "Current Ver       8853 non-null object\n",
            "Android Ver       8859 non-null object\n",
            "dtypes: float64(1), object(12)\n",
            "memory usage: 969.2+ KB\n"
          ],
          "name": "stdout"
        }
      ]
    },
    {
      "cell_type": "markdown",
      "metadata": {
        "id": "JmeYo9F_OzqU",
        "colab_type": "text"
      },
      "source": [
        "#### Rating"
      ]
    },
    {
      "cell_type": "code",
      "metadata": {
        "id": "2q8U94RxO4PT",
        "colab_type": "code",
        "outputId": "f67044c9-5dca-467e-d85b-77d5ddb22ed7",
        "colab": {
          "base_uri": "https://localhost:8080/",
          "height": 755
        }
      },
      "source": [
        "gpstore['Rating'].value_counts(dropna=False)"
      ],
      "execution_count": 0,
      "outputs": [
        {
          "output_type": "execute_result",
          "data": {
            "text/plain": [
              "NaN    1454\n",
              "4.3     776\n",
              "4.4     768\n",
              "4.5     729\n",
              "4.2     717\n",
              "4.6     588\n",
              "4.1     555\n",
              "4.0     473\n",
              "4.7     404\n",
              "3.9     339\n",
              "3.8     272\n",
              "5.0     268\n",
              "3.7     212\n",
              "4.8     209\n",
              "3.6     160\n",
              "3.5     149\n",
              "3.4     124\n",
              "3.3      98\n",
              "4.9      84\n",
              "3.0      79\n",
              "3.1      69\n",
              "3.2      62\n",
              "2.9      45\n",
              "2.8      39\n",
              "2.6      22\n",
              "2.7      21\n",
              "2.3      20\n",
              "2.4      19\n",
              "2.5      19\n",
              "1.0      16\n",
              "2.2      14\n",
              "2.0      12\n",
              "1.9      10\n",
              "1.8       8\n",
              "1.7       8\n",
              "2.1       8\n",
              "1.6       4\n",
              "1.5       3\n",
              "1.4       3\n",
              "1.2       1\n",
              "Name: Rating, dtype: int64"
            ]
          },
          "metadata": {
            "tags": []
          },
          "execution_count": 14
        }
      ]
    },
    {
      "cell_type": "markdown",
      "metadata": {
        "id": "IVnbwZIePBcr",
        "colab_type": "text"
      },
      "source": [
        "There are so many NaN values in Rating column, so we will fill them by mean of the non-NaN values"
      ]
    },
    {
      "cell_type": "code",
      "metadata": {
        "id": "ftLJ5pQsPAaO",
        "colab_type": "code",
        "outputId": "60d66e83-4578-4a26-f1bf-6be0a3d13d7c",
        "colab": {
          "base_uri": "https://localhost:8080/",
          "height": 49
        }
      },
      "source": [
        "gpstore['Rating'].fillna(round(gpstore[gpstore['Rating'].isnull() == False]['Rating'].mean(), 1), inplace = True) \n",
        "gpstore[gpstore['Rating'].isnull()]"
      ],
      "execution_count": 0,
      "outputs": [
        {
          "output_type": "execute_result",
          "data": {
            "text/html": [
              "<div>\n",
              "<style scoped>\n",
              "    .dataframe tbody tr th:only-of-type {\n",
              "        vertical-align: middle;\n",
              "    }\n",
              "\n",
              "    .dataframe tbody tr th {\n",
              "        vertical-align: top;\n",
              "    }\n",
              "\n",
              "    .dataframe thead th {\n",
              "        text-align: right;\n",
              "    }\n",
              "</style>\n",
              "<table border=\"1\" class=\"dataframe\">\n",
              "  <thead>\n",
              "    <tr style=\"text-align: right;\">\n",
              "      <th></th>\n",
              "      <th>App</th>\n",
              "      <th>Category</th>\n",
              "      <th>Rating</th>\n",
              "      <th>Reviews</th>\n",
              "      <th>Size</th>\n",
              "      <th>Installs</th>\n",
              "      <th>Type</th>\n",
              "      <th>Price</th>\n",
              "      <th>Content Rating</th>\n",
              "      <th>Genres</th>\n",
              "      <th>Last Updated</th>\n",
              "      <th>Current Ver</th>\n",
              "      <th>Android Ver</th>\n",
              "    </tr>\n",
              "  </thead>\n",
              "  <tbody>\n",
              "  </tbody>\n",
              "</table>\n",
              "</div>"
            ],
            "text/plain": [
              "Empty DataFrame\n",
              "Columns: [App, Category, Rating, Reviews, Size, Installs, Type, Price, Content Rating, Genres, Last Updated, Current Ver, Android Ver]\n",
              "Index: []"
            ]
          },
          "metadata": {
            "tags": []
          },
          "execution_count": 15
        }
      ]
    },
    {
      "cell_type": "markdown",
      "metadata": {
        "id": "b1-evFJroQDd",
        "colab_type": "text"
      },
      "source": [
        "#### Price"
      ]
    },
    {
      "cell_type": "code",
      "metadata": {
        "id": "Bj9vGXAROMtp",
        "colab_type": "code",
        "outputId": "a37a9f30-1385-4689-ad1b-ccd1482398e8",
        "colab": {
          "base_uri": "https://localhost:8080/",
          "height": 1000
        }
      },
      "source": [
        "gpstore['Price'].value_counts(dropna=False)"
      ],
      "execution_count": 0,
      "outputs": [
        {
          "output_type": "execute_result",
          "data": {
            "text/plain": [
              "0          8147\n",
              "$0.99       142\n",
              "$2.99       119\n",
              "$1.99        73\n",
              "$4.99        68\n",
              "$3.99        52\n",
              "$1.49        46\n",
              "$2.49        24\n",
              "$5.99        23\n",
              "$9.99        17\n",
              "$399.99      12\n",
              "$4.49         9\n",
              "$6.99         8\n",
              "$14.99        7\n",
              "$3.49         7\n",
              "$7.99         7\n",
              "$6.49         5\n",
              "$8.99         5\n",
              "$5.49         4\n",
              "$19.99        4\n",
              "$29.99        3\n",
              "$1.00         3\n",
              "$12.99        3\n",
              "$2.00         3\n",
              "$13.99        2\n",
              "$10.99        2\n",
              "$8.49         2\n",
              "$7.49         2\n",
              "$17.99        2\n",
              "$1.70         2\n",
              "           ... \n",
              "$1.59         1\n",
              "$2.90         1\n",
              "$3.02         1\n",
              "$11.99        1\n",
              "$74.99        1\n",
              "$4.60         1\n",
              "$3.04         1\n",
              "$1.96         1\n",
              "$394.99       1\n",
              "$15.99        1\n",
              "$200.00       1\n",
              "$299.99       1\n",
              "$154.99       1\n",
              "$109.99       1\n",
              "$1.20         1\n",
              "$2.56         1\n",
              "$19.40        1\n",
              "$18.99        1\n",
              "$4.77         1\n",
              "$37.99        1\n",
              "$4.59         1\n",
              "$5.00         1\n",
              "$4.85         1\n",
              "$3.28         1\n",
              "$10.00        1\n",
              "$4.84         1\n",
              "$400.00       1\n",
              "$1.61         1\n",
              "$2.60         1\n",
              "$1.29         1\n",
              "Name: Price, Length: 87, dtype: int64"
            ]
          },
          "metadata": {
            "tags": []
          },
          "execution_count": 16
        }
      ]
    },
    {
      "cell_type": "code",
      "metadata": {
        "id": "256zyjkepht4",
        "colab_type": "code",
        "outputId": "98e3e3b4-1ff0-40be-84fb-b0acfff8377d",
        "colab": {
          "base_uri": "https://localhost:8080/",
          "height": 35
        }
      },
      "source": [
        "# Price column's dtype is dtype('O') which is Python type string\n",
        "gpstore.Price.dtype"
      ],
      "execution_count": 0,
      "outputs": [
        {
          "output_type": "execute_result",
          "data": {
            "text/plain": [
              "dtype('O')"
            ]
          },
          "metadata": {
            "tags": []
          },
          "execution_count": 17
        }
      ]
    },
    {
      "cell_type": "code",
      "metadata": {
        "id": "yXt1u8o8oXUf",
        "colab_type": "code",
        "outputId": "984e6f3d-805d-4eb0-9cbe-b6e8ae05dc9f",
        "colab": {
          "base_uri": "https://localhost:8080/",
          "height": 125
        }
      },
      "source": [
        "gpstore[gpstore['Type']=='Paid']['Price'].head() # e.g $4.99 is a string"
      ],
      "execution_count": 0,
      "outputs": [
        {
          "output_type": "execute_result",
          "data": {
            "text/plain": [
              "427    $3.99\n",
              "478    $1.49\n",
              "479    $2.99\n",
              "480    $3.99\n",
              "481    $7.99\n",
              "Name: Price, dtype: object"
            ]
          },
          "metadata": {
            "tags": []
          },
          "execution_count": 18
        }
      ]
    },
    {
      "cell_type": "code",
      "metadata": {
        "id": "xqrgLVrOoz-K",
        "colab_type": "code",
        "outputId": "26143ccf-b38b-4760-f0df-3867c00ee4f4",
        "colab": {
          "base_uri": "https://localhost:8080/",
          "height": 35
        }
      },
      "source": [
        "# Price in $ is the column having numeric values of Price column\n",
        "gpstore['Price in $'] = gpstore['Price'].str.lstrip('$').apply(lambda str_f: float(str_f))\n",
        "gpstore['Price in $'].dtype"
      ],
      "execution_count": 0,
      "outputs": [
        {
          "output_type": "execute_result",
          "data": {
            "text/plain": [
              "dtype('float64')"
            ]
          },
          "metadata": {
            "tags": []
          },
          "execution_count": 19
        }
      ]
    },
    {
      "cell_type": "code",
      "metadata": {
        "colab_type": "code",
        "outputId": "e5bbed18-977c-4b73-efca-6500d2b80907",
        "id": "WvYfty7Fxzrt",
        "colab": {
          "base_uri": "https://localhost:8080/",
          "height": 359
        }
      },
      "source": [
        "# check our dataframe again\n",
        "gpstore.info()"
      ],
      "execution_count": 0,
      "outputs": [
        {
          "output_type": "stream",
          "text": [
            "<class 'pandas.core.frame.DataFrame'>\n",
            "Int64Index: 8861 entries, 0 to 10840\n",
            "Data columns (total 14 columns):\n",
            "App               8861 non-null object\n",
            "Category          8861 non-null object\n",
            "Rating            8861 non-null float64\n",
            "Reviews           8861 non-null object\n",
            "Size              8861 non-null object\n",
            "Installs          8861 non-null object\n",
            "Type              8860 non-null object\n",
            "Price             8861 non-null object\n",
            "Content Rating    8861 non-null object\n",
            "Genres            8861 non-null object\n",
            "Last Updated      8861 non-null object\n",
            "Current Ver       8853 non-null object\n",
            "Android Ver       8859 non-null object\n",
            "Price in $        8861 non-null float64\n",
            "dtypes: float64(2), object(12)\n",
            "memory usage: 1.0+ MB\n"
          ],
          "name": "stdout"
        }
      ]
    },
    {
      "cell_type": "markdown",
      "metadata": {
        "id": "e1DJxVdBGnxE",
        "colab_type": "text"
      },
      "source": [
        "#### Type"
      ]
    },
    {
      "cell_type": "code",
      "metadata": {
        "id": "nQj0FQngGnxF",
        "colab_type": "code",
        "outputId": "ea6690f3-fa77-4043-8957-d3af99940822",
        "colab": {
          "base_uri": "https://localhost:8080/",
          "height": 89
        }
      },
      "source": [
        "gpstore['Type'].value_counts(dropna=False)"
      ],
      "execution_count": 0,
      "outputs": [
        {
          "output_type": "execute_result",
          "data": {
            "text/plain": [
              "Free    8146\n",
              "Paid     714\n",
              "NaN        1\n",
              "Name: Type, dtype: int64"
            ]
          },
          "metadata": {
            "tags": []
          },
          "execution_count": 21
        }
      ]
    },
    {
      "cell_type": "code",
      "metadata": {
        "id": "LHm3uTmJn7fE",
        "colab_type": "code",
        "outputId": "53513f90-c769-4821-a740-b22c66c60fea",
        "colab": {
          "base_uri": "https://localhost:8080/",
          "height": 80
        }
      },
      "source": [
        "#Type columns has 1 null\n",
        "gpstore[gpstore['Type'].isnull()]"
      ],
      "execution_count": 0,
      "outputs": [
        {
          "output_type": "execute_result",
          "data": {
            "text/html": [
              "<div>\n",
              "<style scoped>\n",
              "    .dataframe tbody tr th:only-of-type {\n",
              "        vertical-align: middle;\n",
              "    }\n",
              "\n",
              "    .dataframe tbody tr th {\n",
              "        vertical-align: top;\n",
              "    }\n",
              "\n",
              "    .dataframe thead th {\n",
              "        text-align: right;\n",
              "    }\n",
              "</style>\n",
              "<table border=\"1\" class=\"dataframe\">\n",
              "  <thead>\n",
              "    <tr style=\"text-align: right;\">\n",
              "      <th></th>\n",
              "      <th>App</th>\n",
              "      <th>Category</th>\n",
              "      <th>Rating</th>\n",
              "      <th>Reviews</th>\n",
              "      <th>Size</th>\n",
              "      <th>Installs</th>\n",
              "      <th>Type</th>\n",
              "      <th>Price</th>\n",
              "      <th>Content Rating</th>\n",
              "      <th>Genres</th>\n",
              "      <th>Last Updated</th>\n",
              "      <th>Current Ver</th>\n",
              "      <th>Android Ver</th>\n",
              "      <th>Price in $</th>\n",
              "    </tr>\n",
              "  </thead>\n",
              "  <tbody>\n",
              "    <tr>\n",
              "      <th>9148</th>\n",
              "      <td>Command &amp; Conquer: Rivals</td>\n",
              "      <td>FAMILY</td>\n",
              "      <td>4.2</td>\n",
              "      <td>0</td>\n",
              "      <td>Varies with device</td>\n",
              "      <td>0</td>\n",
              "      <td>NaN</td>\n",
              "      <td>0</td>\n",
              "      <td>Everyone 10+</td>\n",
              "      <td>Strategy</td>\n",
              "      <td>June 28, 2018</td>\n",
              "      <td>Varies with device</td>\n",
              "      <td>Varies with device</td>\n",
              "      <td>0.0</td>\n",
              "    </tr>\n",
              "  </tbody>\n",
              "</table>\n",
              "</div>"
            ],
            "text/plain": [
              "                            App Category  ...         Android Ver Price in $\n",
              "9148  Command & Conquer: Rivals   FAMILY  ...  Varies with device        0.0\n",
              "\n",
              "[1 rows x 14 columns]"
            ]
          },
          "metadata": {
            "tags": []
          },
          "execution_count": 22
        }
      ]
    },
    {
      "cell_type": "code",
      "metadata": {
        "id": "MKA_pKj2rBik",
        "colab_type": "code",
        "outputId": "8c012ea3-b405-4ae1-901e-b58380c9b848",
        "colab": {
          "base_uri": "https://localhost:8080/",
          "height": 49
        }
      },
      "source": [
        "# Exclude that row\n",
        "gpstore.dropna(subset=['Type'], inplace=True)\n",
        "gpstore[gpstore['Type'].isnull()]"
      ],
      "execution_count": 0,
      "outputs": [
        {
          "output_type": "execute_result",
          "data": {
            "text/html": [
              "<div>\n",
              "<style scoped>\n",
              "    .dataframe tbody tr th:only-of-type {\n",
              "        vertical-align: middle;\n",
              "    }\n",
              "\n",
              "    .dataframe tbody tr th {\n",
              "        vertical-align: top;\n",
              "    }\n",
              "\n",
              "    .dataframe thead th {\n",
              "        text-align: right;\n",
              "    }\n",
              "</style>\n",
              "<table border=\"1\" class=\"dataframe\">\n",
              "  <thead>\n",
              "    <tr style=\"text-align: right;\">\n",
              "      <th></th>\n",
              "      <th>App</th>\n",
              "      <th>Category</th>\n",
              "      <th>Rating</th>\n",
              "      <th>Reviews</th>\n",
              "      <th>Size</th>\n",
              "      <th>Installs</th>\n",
              "      <th>Type</th>\n",
              "      <th>Price</th>\n",
              "      <th>Content Rating</th>\n",
              "      <th>Genres</th>\n",
              "      <th>Last Updated</th>\n",
              "      <th>Current Ver</th>\n",
              "      <th>Android Ver</th>\n",
              "      <th>Price in $</th>\n",
              "    </tr>\n",
              "  </thead>\n",
              "  <tbody>\n",
              "  </tbody>\n",
              "</table>\n",
              "</div>"
            ],
            "text/plain": [
              "Empty DataFrame\n",
              "Columns: [App, Category, Rating, Reviews, Size, Installs, Type, Price, Content Rating, Genres, Last Updated, Current Ver, Android Ver, Price in $]\n",
              "Index: []"
            ]
          },
          "metadata": {
            "tags": []
          },
          "execution_count": 23
        }
      ]
    },
    {
      "cell_type": "code",
      "metadata": {
        "id": "RBIOBAYJJXJq",
        "colab_type": "code",
        "outputId": "a445edfc-64af-45bb-d556-2d9f2c4e23f0",
        "colab": {
          "base_uri": "https://localhost:8080/",
          "height": 49
        }
      },
      "source": [
        "# check if there are any row that Price is 0 but Type is not Free\n",
        "gpstore[(gpstore['Price'] == '0') & (gpstore['Type'] != 'Free')]"
      ],
      "execution_count": 0,
      "outputs": [
        {
          "output_type": "execute_result",
          "data": {
            "text/html": [
              "<div>\n",
              "<style scoped>\n",
              "    .dataframe tbody tr th:only-of-type {\n",
              "        vertical-align: middle;\n",
              "    }\n",
              "\n",
              "    .dataframe tbody tr th {\n",
              "        vertical-align: top;\n",
              "    }\n",
              "\n",
              "    .dataframe thead th {\n",
              "        text-align: right;\n",
              "    }\n",
              "</style>\n",
              "<table border=\"1\" class=\"dataframe\">\n",
              "  <thead>\n",
              "    <tr style=\"text-align: right;\">\n",
              "      <th></th>\n",
              "      <th>App</th>\n",
              "      <th>Category</th>\n",
              "      <th>Rating</th>\n",
              "      <th>Reviews</th>\n",
              "      <th>Size</th>\n",
              "      <th>Installs</th>\n",
              "      <th>Type</th>\n",
              "      <th>Price</th>\n",
              "      <th>Content Rating</th>\n",
              "      <th>Genres</th>\n",
              "      <th>Last Updated</th>\n",
              "      <th>Current Ver</th>\n",
              "      <th>Android Ver</th>\n",
              "      <th>Price in $</th>\n",
              "    </tr>\n",
              "  </thead>\n",
              "  <tbody>\n",
              "  </tbody>\n",
              "</table>\n",
              "</div>"
            ],
            "text/plain": [
              "Empty DataFrame\n",
              "Columns: [App, Category, Rating, Reviews, Size, Installs, Type, Price, Content Rating, Genres, Last Updated, Current Ver, Android Ver, Price in $]\n",
              "Index: []"
            ]
          },
          "metadata": {
            "tags": []
          },
          "execution_count": 24
        }
      ]
    },
    {
      "cell_type": "code",
      "metadata": {
        "id": "K9oRCxPPMUOU",
        "colab_type": "code",
        "outputId": "a09ba835-d995-4457-b877-4bff04a966dc",
        "colab": {
          "base_uri": "https://localhost:8080/",
          "height": 49
        }
      },
      "source": [
        "# check if there are any row that Price is greater than 0 but Type is not Paid\n",
        "gpstore[(gpstore['Price in $'] > 0) & (gpstore['Type'] != 'Paid')]"
      ],
      "execution_count": 0,
      "outputs": [
        {
          "output_type": "execute_result",
          "data": {
            "text/html": [
              "<div>\n",
              "<style scoped>\n",
              "    .dataframe tbody tr th:only-of-type {\n",
              "        vertical-align: middle;\n",
              "    }\n",
              "\n",
              "    .dataframe tbody tr th {\n",
              "        vertical-align: top;\n",
              "    }\n",
              "\n",
              "    .dataframe thead th {\n",
              "        text-align: right;\n",
              "    }\n",
              "</style>\n",
              "<table border=\"1\" class=\"dataframe\">\n",
              "  <thead>\n",
              "    <tr style=\"text-align: right;\">\n",
              "      <th></th>\n",
              "      <th>App</th>\n",
              "      <th>Category</th>\n",
              "      <th>Rating</th>\n",
              "      <th>Reviews</th>\n",
              "      <th>Size</th>\n",
              "      <th>Installs</th>\n",
              "      <th>Type</th>\n",
              "      <th>Price</th>\n",
              "      <th>Content Rating</th>\n",
              "      <th>Genres</th>\n",
              "      <th>Last Updated</th>\n",
              "      <th>Current Ver</th>\n",
              "      <th>Android Ver</th>\n",
              "      <th>Price in $</th>\n",
              "    </tr>\n",
              "  </thead>\n",
              "  <tbody>\n",
              "  </tbody>\n",
              "</table>\n",
              "</div>"
            ],
            "text/plain": [
              "Empty DataFrame\n",
              "Columns: [App, Category, Rating, Reviews, Size, Installs, Type, Price, Content Rating, Genres, Last Updated, Current Ver, Android Ver, Price in $]\n",
              "Index: []"
            ]
          },
          "metadata": {
            "tags": []
          },
          "execution_count": 25
        }
      ]
    },
    {
      "cell_type": "code",
      "metadata": {
        "colab_type": "code",
        "outputId": "fca4a690-08b2-4d07-981e-d98920d76f16",
        "id": "qR-7D_cBx3IM",
        "colab": {
          "base_uri": "https://localhost:8080/",
          "height": 359
        }
      },
      "source": [
        "# check our dataframe again\n",
        "gpstore.info()"
      ],
      "execution_count": 0,
      "outputs": [
        {
          "output_type": "stream",
          "text": [
            "<class 'pandas.core.frame.DataFrame'>\n",
            "Int64Index: 8860 entries, 0 to 10840\n",
            "Data columns (total 14 columns):\n",
            "App               8860 non-null object\n",
            "Category          8860 non-null object\n",
            "Rating            8860 non-null float64\n",
            "Reviews           8860 non-null object\n",
            "Size              8860 non-null object\n",
            "Installs          8860 non-null object\n",
            "Type              8860 non-null object\n",
            "Price             8860 non-null object\n",
            "Content Rating    8860 non-null object\n",
            "Genres            8860 non-null object\n",
            "Last Updated      8860 non-null object\n",
            "Current Ver       8852 non-null object\n",
            "Android Ver       8858 non-null object\n",
            "Price in $        8860 non-null float64\n",
            "dtypes: float64(2), object(12)\n",
            "memory usage: 1.0+ MB\n"
          ],
          "name": "stdout"
        }
      ]
    },
    {
      "cell_type": "markdown",
      "metadata": {
        "id": "UIn_APCOn-w5",
        "colab_type": "text"
      },
      "source": [
        "#### Content Rating"
      ]
    },
    {
      "cell_type": "code",
      "metadata": {
        "id": "vfBO6RTFGnxJ",
        "colab_type": "code",
        "outputId": "c93c3018-e3e1-4bfe-92ff-225b40d998af",
        "colab": {
          "base_uri": "https://localhost:8080/"
        }
      },
      "source": [
        "gpstore['Content Rating'].value_counts(dropna=False)"
      ],
      "execution_count": 0,
      "outputs": [
        {
          "output_type": "execute_result",
          "data": {
            "text/plain": [
              "Everyone           7334\n",
              "Teen                927\n",
              "Mature 17+          316\n",
              "Everyone 10+        278\n",
              "Adults only 18+       3\n",
              "Unrated               2\n",
              "Name: Content Rating, dtype: int64"
            ]
          },
          "metadata": {
            "tags": []
          },
          "execution_count": 27
        }
      ]
    },
    {
      "cell_type": "code",
      "metadata": {
        "id": "LMs9dWwOsqdw",
        "colab_type": "code",
        "outputId": "dbdaa896-0844-485f-a227-5dbe2f345abc",
        "colab": {
          "base_uri": "https://localhost:8080/"
        }
      },
      "source": [
        "#Unrated can be considered as NaN value and there are only 2 row having Unrated value in Content Rating column, so we drop them =))\n",
        "gpstore = gpstore[gpstore['Content Rating'] != 'Unrated']\n",
        "gpstore['Content Rating'].value_counts(dropna=False)"
      ],
      "execution_count": 0,
      "outputs": [
        {
          "output_type": "execute_result",
          "data": {
            "text/plain": [
              "Everyone           7334\n",
              "Teen                927\n",
              "Mature 17+          316\n",
              "Everyone 10+        278\n",
              "Adults only 18+       3\n",
              "Name: Content Rating, dtype: int64"
            ]
          },
          "metadata": {
            "tags": []
          },
          "execution_count": 28
        }
      ]
    },
    {
      "cell_type": "code",
      "metadata": {
        "colab_type": "code",
        "outputId": "b2e9c9bb-b3b2-401d-c306-b25c9c6f993e",
        "id": "_E1fzClcx4kK",
        "colab": {
          "base_uri": "https://localhost:8080/"
        }
      },
      "source": [
        "# check our dataframe again\n",
        "gpstore.info()"
      ],
      "execution_count": 0,
      "outputs": [
        {
          "output_type": "stream",
          "text": [
            "<class 'pandas.core.frame.DataFrame'>\n",
            "Int64Index: 8858 entries, 0 to 10840\n",
            "Data columns (total 14 columns):\n",
            "App               8858 non-null object\n",
            "Category          8858 non-null object\n",
            "Rating            8858 non-null float64\n",
            "Reviews           8858 non-null object\n",
            "Size              8858 non-null object\n",
            "Installs          8858 non-null object\n",
            "Type              8858 non-null object\n",
            "Price             8858 non-null object\n",
            "Content Rating    8858 non-null object\n",
            "Genres            8858 non-null object\n",
            "Last Updated      8858 non-null object\n",
            "Current Ver       8850 non-null object\n",
            "Android Ver       8856 non-null object\n",
            "Price in $        8858 non-null float64\n",
            "dtypes: float64(2), object(12)\n",
            "memory usage: 1.0+ MB\n"
          ],
          "name": "stdout"
        }
      ]
    },
    {
      "cell_type": "markdown",
      "metadata": {
        "colab_type": "text",
        "id": "4yJ7GA5n17xz"
      },
      "source": [
        "#### Reviews / Genres / Last Updated\n",
        "These columns don't seem to need  cleaning"
      ]
    },
    {
      "cell_type": "code",
      "metadata": {
        "colab_type": "code",
        "outputId": "aad71e14-c0a8-46b2-a778-218d73a9be1c",
        "id": "H2ZqjWOv17x4",
        "colab": {
          "base_uri": "https://localhost:8080/"
        }
      },
      "source": [
        "gpstore['Reviews'].value_counts(dropna=False)"
      ],
      "execution_count": 0,
      "outputs": [
        {
          "output_type": "execute_result",
          "data": {
            "text/plain": [
              "0          589\n",
              "1          271\n",
              "2          212\n",
              "3          165\n",
              "4          137\n",
              "5          108\n",
              "6           91\n",
              "7           87\n",
              "8           70\n",
              "9           63\n",
              "10          61\n",
              "12          56\n",
              "11          52\n",
              "13          49\n",
              "17          46\n",
              "14          41\n",
              "19          41\n",
              "16          35\n",
              "20          35\n",
              "21          31\n",
              "30          30\n",
              "24          30\n",
              "25          30\n",
              "15          29\n",
              "38          29\n",
              "18          27\n",
              "22          26\n",
              "23          25\n",
              "27          25\n",
              "33          24\n",
              "          ... \n",
              "113715       1\n",
              "809          1\n",
              "16966        1\n",
              "15680        1\n",
              "5305         1\n",
              "47576        1\n",
              "133180       1\n",
              "4537         1\n",
              "935          1\n",
              "54207        1\n",
              "317          1\n",
              "29990        1\n",
              "29495        1\n",
              "210317       1\n",
              "69488        1\n",
              "6495         1\n",
              "117925       1\n",
              "38824        1\n",
              "15880        1\n",
              "197540       1\n",
              "6230         1\n",
              "6701         1\n",
              "1611         1\n",
              "3213548      1\n",
              "88486        1\n",
              "10158        1\n",
              "763          1\n",
              "4444         1\n",
              "9636         1\n",
              "8662         1\n",
              "Name: Reviews, Length: 4621, dtype: int64"
            ]
          },
          "metadata": {
            "tags": []
          },
          "execution_count": 30
        }
      ]
    },
    {
      "cell_type": "code",
      "metadata": {
        "colab_type": "code",
        "outputId": "ebaa676d-5eb7-41de-ae58-1bfc5b307d91",
        "id": "iQBSHQ-52UaQ",
        "colab": {
          "base_uri": "https://localhost:8080/"
        }
      },
      "source": [
        "gpstore['Genres'].value_counts(dropna=False)"
      ],
      "execution_count": 0,
      "outputs": [
        {
          "output_type": "execute_result",
          "data": {
            "text/plain": [
              "Tools                                    812\n",
              "Entertainment                            522\n",
              "Education                                484\n",
              "Business                                 386\n",
              "Personalization                          363\n",
              "Lifestyle                                356\n",
              "Productivity                             341\n",
              "Medical                                  334\n",
              "Finance                                  328\n",
              "Sports                                   301\n",
              "Communication                            272\n",
              "Action                                   270\n",
              "Health & Fitness                         246\n",
              "Photography                              244\n",
              "News & Magazines                         234\n",
              "Books & Reference                        213\n",
              "Social                                   200\n",
              "Travel & Local                           194\n",
              "Simulation                               187\n",
              "Arcade                                   167\n",
              "Shopping                                 166\n",
              "Casual                                   153\n",
              "Video Players & Editors                  153\n",
              "Maps & Navigation                        125\n",
              "Dating                                   116\n",
              "Puzzle                                   107\n",
              "Role Playing                             102\n",
              "Food & Drink                              98\n",
              "Strategy                                  89\n",
              "Racing                                    86\n",
              "                                        ... \n",
              "Puzzle;Action & Adventure                  2\n",
              "Role Playing;Action & Adventure            2\n",
              "Education;Action & Adventure               2\n",
              "Strategy;Action & Adventure                2\n",
              "Simulation;Pretend Play                    2\n",
              "Card;Action & Adventure                    2\n",
              "Parenting;Brain Games                      1\n",
              "Adventure;Brain Games                      1\n",
              "Travel & Local;Action & Adventure          1\n",
              "Lifestyle;Pretend Play                     1\n",
              "Racing;Pretend Play                        1\n",
              "Entertainment;Education                    1\n",
              "Trivia;Education                           1\n",
              "Comics;Creativity                          1\n",
              "Communication;Creativity                   1\n",
              "Music & Audio;Music & Video                1\n",
              "Books & Reference;Creativity               1\n",
              "Education;Music & Video                    1\n",
              "Lifestyle;Education                        1\n",
              "Health & Fitness;Action & Adventure        1\n",
              "Arcade;Pretend Play                        1\n",
              "Puzzle;Education                           1\n",
              "Role Playing;Brain Games                   1\n",
              "Health & Fitness;Education                 1\n",
              "Tools;Education                            1\n",
              "Strategy;Creativity                        1\n",
              "Board;Pretend Play                         1\n",
              "Strategy;Education                         1\n",
              "Video Players & Editors;Music & Video      1\n",
              "Role Playing;Education                     1\n",
              "Name: Genres, Length: 113, dtype: int64"
            ]
          },
          "metadata": {
            "tags": []
          },
          "execution_count": 31
        }
      ]
    },
    {
      "cell_type": "code",
      "metadata": {
        "colab_type": "code",
        "outputId": "44c6d9f5-50c5-44a3-9d1a-5a28e82407ad",
        "id": "CNg2iiST2XH3",
        "colab": {
          "base_uri": "https://localhost:8080/"
        }
      },
      "source": [
        "gpstore['Last Updated'].value_counts(dropna=False)"
      ],
      "execution_count": 0,
      "outputs": [
        {
          "output_type": "execute_result",
          "data": {
            "text/plain": [
              "August 3, 2018       210\n",
              "August 2, 2018       183\n",
              "August 1, 2018       161\n",
              "July 31, 2018        154\n",
              "July 30, 2018        128\n",
              "July 26, 2018        118\n",
              "July 25, 2018        103\n",
              "July 24, 2018        101\n",
              "July 23, 2018        100\n",
              "July 27, 2018         99\n",
              "July 19, 2018         84\n",
              "July 18, 2018         82\n",
              "August 6, 2018        82\n",
              "August 4, 2018        77\n",
              "July 12, 2018         75\n",
              "July 9, 2018          74\n",
              "July 11, 2018         73\n",
              "July 3, 2018          72\n",
              "July 17, 2018         72\n",
              "July 13, 2018         68\n",
              "July 16, 2018         65\n",
              "July 5, 2018          64\n",
              "July 20, 2018         57\n",
              "May 24, 2018          56\n",
              "June 26, 2018         50\n",
              "June 25, 2018         50\n",
              "June 13, 2018         47\n",
              "July 28, 2018         46\n",
              "July 4, 2018          45\n",
              "May 25, 2018          43\n",
              "                    ... \n",
              "May 16, 2015           1\n",
              "January 13, 2014       1\n",
              "January 23, 2014       1\n",
              "July 27, 2013          1\n",
              "February 1, 2016       1\n",
              "May 14, 2014           1\n",
              "May 24, 2014           1\n",
              "December 1, 2015       1\n",
              "May 2, 2016            1\n",
              "July 18, 2015          1\n",
              "April 6, 2016          1\n",
              "June 6, 2015           1\n",
              "April 11, 2011         1\n",
              "October 4, 2015        1\n",
              "February 12, 2015      1\n",
              "June 29, 2011          1\n",
              "July 14, 2015          1\n",
              "June 25, 2016          1\n",
              "November 13, 2014      1\n",
              "April 22, 2013         1\n",
              "March 2, 2016          1\n",
              "May 6, 2014            1\n",
              "February 6, 2014       1\n",
              "February 8, 2016       1\n",
              "August 17, 2012        1\n",
              "February 21, 2014      1\n",
              "December 17, 2014      1\n",
              "February 10, 2016      1\n",
              "October 11, 2015       1\n",
              "November 25, 2015      1\n",
              "Name: Last Updated, Length: 1370, dtype: int64"
            ]
          },
          "metadata": {
            "tags": []
          },
          "execution_count": 32
        }
      ]
    },
    {
      "cell_type": "markdown",
      "metadata": {
        "id": "GgY4sCa1QlVn",
        "colab_type": "text"
      },
      "source": [
        "#### Current Ver\n"
      ]
    },
    {
      "cell_type": "code",
      "metadata": {
        "id": "QVYDCNkEQrxX",
        "colab_type": "code",
        "outputId": "4c23490c-3001-4879-ef5e-3cf6aa31704e",
        "colab": {
          "base_uri": "https://localhost:8080/"
        }
      },
      "source": [
        "gpstore[gpstore['Current Ver'].isnull()]"
      ],
      "execution_count": 0,
      "outputs": [
        {
          "output_type": "execute_result",
          "data": {
            "text/html": [
              "<div>\n",
              "<style scoped>\n",
              "    .dataframe tbody tr th:only-of-type {\n",
              "        vertical-align: middle;\n",
              "    }\n",
              "\n",
              "    .dataframe tbody tr th {\n",
              "        vertical-align: top;\n",
              "    }\n",
              "\n",
              "    .dataframe thead th {\n",
              "        text-align: right;\n",
              "    }\n",
              "</style>\n",
              "<table border=\"1\" class=\"dataframe\">\n",
              "  <thead>\n",
              "    <tr style=\"text-align: right;\">\n",
              "      <th></th>\n",
              "      <th>App</th>\n",
              "      <th>Category</th>\n",
              "      <th>Rating</th>\n",
              "      <th>Reviews</th>\n",
              "      <th>Size</th>\n",
              "      <th>Installs</th>\n",
              "      <th>Type</th>\n",
              "      <th>Price</th>\n",
              "      <th>Content Rating</th>\n",
              "      <th>Genres</th>\n",
              "      <th>Last Updated</th>\n",
              "      <th>Current Ver</th>\n",
              "      <th>Android Ver</th>\n",
              "      <th>Price in $</th>\n",
              "    </tr>\n",
              "  </thead>\n",
              "  <tbody>\n",
              "    <tr>\n",
              "      <th>15</th>\n",
              "      <td>Learn To Draw Kawaii Characters</td>\n",
              "      <td>ART_AND_DESIGN</td>\n",
              "      <td>3.2</td>\n",
              "      <td>55</td>\n",
              "      <td>2.7M</td>\n",
              "      <td>5,000+</td>\n",
              "      <td>Free</td>\n",
              "      <td>0</td>\n",
              "      <td>Everyone</td>\n",
              "      <td>Art &amp; Design</td>\n",
              "      <td>June 6, 2018</td>\n",
              "      <td>NaN</td>\n",
              "      <td>4.2 and up</td>\n",
              "      <td>0.00</td>\n",
              "    </tr>\n",
              "    <tr>\n",
              "      <th>1553</th>\n",
              "      <td>Market Update Helper</td>\n",
              "      <td>LIBRARIES_AND_DEMO</td>\n",
              "      <td>4.1</td>\n",
              "      <td>20145</td>\n",
              "      <td>11k</td>\n",
              "      <td>1,000,000+</td>\n",
              "      <td>Free</td>\n",
              "      <td>0</td>\n",
              "      <td>Everyone</td>\n",
              "      <td>Libraries &amp; Demo</td>\n",
              "      <td>February 12, 2013</td>\n",
              "      <td>NaN</td>\n",
              "      <td>1.5 and up</td>\n",
              "      <td>0.00</td>\n",
              "    </tr>\n",
              "    <tr>\n",
              "      <th>6322</th>\n",
              "      <td>Virtual DJ Sound Mixer</td>\n",
              "      <td>TOOLS</td>\n",
              "      <td>4.2</td>\n",
              "      <td>4010</td>\n",
              "      <td>8.7M</td>\n",
              "      <td>500,000+</td>\n",
              "      <td>Free</td>\n",
              "      <td>0</td>\n",
              "      <td>Everyone</td>\n",
              "      <td>Tools</td>\n",
              "      <td>May 10, 2017</td>\n",
              "      <td>NaN</td>\n",
              "      <td>4.0 and up</td>\n",
              "      <td>0.00</td>\n",
              "    </tr>\n",
              "    <tr>\n",
              "      <th>6803</th>\n",
              "      <td>BT Master</td>\n",
              "      <td>FAMILY</td>\n",
              "      <td>4.2</td>\n",
              "      <td>0</td>\n",
              "      <td>222k</td>\n",
              "      <td>100+</td>\n",
              "      <td>Free</td>\n",
              "      <td>0</td>\n",
              "      <td>Everyone</td>\n",
              "      <td>Education</td>\n",
              "      <td>November 6, 2016</td>\n",
              "      <td>NaN</td>\n",
              "      <td>1.6 and up</td>\n",
              "      <td>0.00</td>\n",
              "    </tr>\n",
              "    <tr>\n",
              "      <th>7333</th>\n",
              "      <td>Dots puzzle</td>\n",
              "      <td>FAMILY</td>\n",
              "      <td>4.0</td>\n",
              "      <td>179</td>\n",
              "      <td>14M</td>\n",
              "      <td>50,000+</td>\n",
              "      <td>Paid</td>\n",
              "      <td>$0.99</td>\n",
              "      <td>Everyone</td>\n",
              "      <td>Puzzle</td>\n",
              "      <td>April 18, 2018</td>\n",
              "      <td>NaN</td>\n",
              "      <td>4.0 and up</td>\n",
              "      <td>0.99</td>\n",
              "    </tr>\n",
              "    <tr>\n",
              "      <th>7407</th>\n",
              "      <td>Calculate My IQ</td>\n",
              "      <td>FAMILY</td>\n",
              "      <td>4.2</td>\n",
              "      <td>44</td>\n",
              "      <td>7.2M</td>\n",
              "      <td>10,000+</td>\n",
              "      <td>Free</td>\n",
              "      <td>0</td>\n",
              "      <td>Everyone</td>\n",
              "      <td>Entertainment</td>\n",
              "      <td>April 3, 2017</td>\n",
              "      <td>NaN</td>\n",
              "      <td>2.3 and up</td>\n",
              "      <td>0.00</td>\n",
              "    </tr>\n",
              "    <tr>\n",
              "      <th>7730</th>\n",
              "      <td>UFO-CQ</td>\n",
              "      <td>TOOLS</td>\n",
              "      <td>4.2</td>\n",
              "      <td>1</td>\n",
              "      <td>237k</td>\n",
              "      <td>10+</td>\n",
              "      <td>Paid</td>\n",
              "      <td>$0.99</td>\n",
              "      <td>Everyone</td>\n",
              "      <td>Tools</td>\n",
              "      <td>July 4, 2016</td>\n",
              "      <td>NaN</td>\n",
              "      <td>2.0 and up</td>\n",
              "      <td>0.99</td>\n",
              "    </tr>\n",
              "    <tr>\n",
              "      <th>10342</th>\n",
              "      <td>La Fe de Jesus</td>\n",
              "      <td>BOOKS_AND_REFERENCE</td>\n",
              "      <td>4.2</td>\n",
              "      <td>8</td>\n",
              "      <td>658k</td>\n",
              "      <td>1,000+</td>\n",
              "      <td>Free</td>\n",
              "      <td>0</td>\n",
              "      <td>Everyone</td>\n",
              "      <td>Books &amp; Reference</td>\n",
              "      <td>January 31, 2017</td>\n",
              "      <td>NaN</td>\n",
              "      <td>3.0 and up</td>\n",
              "      <td>0.00</td>\n",
              "    </tr>\n",
              "  </tbody>\n",
              "</table>\n",
              "</div>"
            ],
            "text/plain": [
              "                                   App  ... Price in $\n",
              "15     Learn To Draw Kawaii Characters  ...       0.00\n",
              "1553              Market Update Helper  ...       0.00\n",
              "6322            Virtual DJ Sound Mixer  ...       0.00\n",
              "6803                         BT Master  ...       0.00\n",
              "7333                       Dots puzzle  ...       0.99\n",
              "7407                   Calculate My IQ  ...       0.00\n",
              "7730                            UFO-CQ  ...       0.99\n",
              "10342                   La Fe de Jesus  ...       0.00\n",
              "\n",
              "[8 rows x 14 columns]"
            ]
          },
          "metadata": {
            "tags": []
          },
          "execution_count": 33
        }
      ]
    },
    {
      "cell_type": "code",
      "metadata": {
        "id": "etnh1jklRLLB",
        "colab_type": "code",
        "colab": {}
      },
      "source": [
        "# fill NaN value in Current Ver column with 1.0.0\n",
        "gpstore['Current Ver'].fillna('1.0.0', inplace=True)"
      ],
      "execution_count": 0,
      "outputs": []
    },
    {
      "cell_type": "markdown",
      "metadata": {
        "id": "KhUExrbOvhaE",
        "colab_type": "text"
      },
      "source": [
        "#### Android Ver"
      ]
    },
    {
      "cell_type": "code",
      "metadata": {
        "id": "RQ3J04RvGnxR",
        "colab_type": "code",
        "outputId": "f01c0c60-9ceb-4643-d799-a3286b4edab5",
        "colab": {
          "base_uri": "https://localhost:8080/"
        }
      },
      "source": [
        "gpstore['Android Ver'].value_counts(dropna=False)"
      ],
      "execution_count": 0,
      "outputs": [
        {
          "output_type": "execute_result",
          "data": {
            "text/plain": [
              "4.1 and up            2042\n",
              "4.0.3 and up          1311\n",
              "4.0 and up            1218\n",
              "Varies with device     752\n",
              "4.4 and up             710\n",
              "2.3 and up             594\n",
              "5.0 and up             453\n",
              "4.2 and up             354\n",
              "2.3.3 and up           264\n",
              "2.2 and up             234\n",
              "3.0 and up             221\n",
              "4.3 and up             206\n",
              "2.1 and up             132\n",
              "1.6 and up             116\n",
              "6.0 and up              51\n",
              "7.0 and up              42\n",
              "3.2 and up              36\n",
              "2.0 and up              32\n",
              "5.1 and up              21\n",
              "1.5 and up              20\n",
              "4.4W and up             10\n",
              "3.1 and up              10\n",
              "2.0.1 and up             7\n",
              "8.0 and up               6\n",
              "7.1 and up               3\n",
              "1.0 and up               2\n",
              "5.0 - 8.0                2\n",
              "4.0.3 - 7.1.1            2\n",
              "NaN                      2\n",
              "7.0 - 7.1.1              1\n",
              "5.0 - 6.0                1\n",
              "4.1 - 7.1.1              1\n",
              "2.2 - 7.1.1              1\n",
              "5.0 - 7.1.1              1\n",
              "Name: Android Ver, dtype: int64"
            ]
          },
          "metadata": {
            "tags": []
          },
          "execution_count": 35
        }
      ]
    },
    {
      "cell_type": "code",
      "metadata": {
        "id": "8In_5hGCASuS",
        "colab_type": "code",
        "outputId": "d29cb4b8-bbf0-4e54-c8d2-89b01cab56c1",
        "colab": {
          "base_uri": "https://localhost:8080/"
        }
      },
      "source": [
        "# Drop 2 NaN value\n",
        "gpstore.dropna(subset=['Android Ver'], inplace=True)\n",
        "gpstore[gpstore['Android Ver'].isnull()]"
      ],
      "execution_count": 0,
      "outputs": [
        {
          "output_type": "execute_result",
          "data": {
            "text/html": [
              "<div>\n",
              "<style scoped>\n",
              "    .dataframe tbody tr th:only-of-type {\n",
              "        vertical-align: middle;\n",
              "    }\n",
              "\n",
              "    .dataframe tbody tr th {\n",
              "        vertical-align: top;\n",
              "    }\n",
              "\n",
              "    .dataframe thead th {\n",
              "        text-align: right;\n",
              "    }\n",
              "</style>\n",
              "<table border=\"1\" class=\"dataframe\">\n",
              "  <thead>\n",
              "    <tr style=\"text-align: right;\">\n",
              "      <th></th>\n",
              "      <th>App</th>\n",
              "      <th>Category</th>\n",
              "      <th>Rating</th>\n",
              "      <th>Reviews</th>\n",
              "      <th>Size</th>\n",
              "      <th>Installs</th>\n",
              "      <th>Type</th>\n",
              "      <th>Price</th>\n",
              "      <th>Content Rating</th>\n",
              "      <th>Genres</th>\n",
              "      <th>Last Updated</th>\n",
              "      <th>Current Ver</th>\n",
              "      <th>Android Ver</th>\n",
              "      <th>Price in $</th>\n",
              "    </tr>\n",
              "  </thead>\n",
              "  <tbody>\n",
              "  </tbody>\n",
              "</table>\n",
              "</div>"
            ],
            "text/plain": [
              "Empty DataFrame\n",
              "Columns: [App, Category, Rating, Reviews, Size, Installs, Type, Price, Content Rating, Genres, Last Updated, Current Ver, Android Ver, Price in $]\n",
              "Index: []"
            ]
          },
          "metadata": {
            "tags": []
          },
          "execution_count": 36
        }
      ]
    },
    {
      "cell_type": "code",
      "metadata": {
        "id": "6j8r8Vb0lbKL",
        "colab_type": "code",
        "outputId": "35a37459-09c7-4f3f-f71a-acceccd8ff08",
        "colab": {
          "base_uri": "https://localhost:8080/"
        }
      },
      "source": [
        "# Standardize Android Ver: X.X.X - Y.Y.Y\n",
        "regex = ' [\\w+]+(?:\\.\\w+) '\n",
        "gpstore['Android Ver'] = \" \" + gpstore['Android Ver'] + \" \"\n",
        "\n",
        "gpstore['Android Ver'] = gpstore['Android Ver'].str.replace('and', '-')\n",
        "gpstore['Android Ver'] = gpstore['Android Ver'].str.replace('up', 'latest')\n",
        "\n",
        "import re\n",
        "def append_by_regex(text):\n",
        "  search_value = re.search(regex, text)\n",
        "  while search_value:\n",
        "    pos = search_value.end()\n",
        "    text = text[:pos].rstrip() + \".0 \" + text[pos:] \n",
        "    search_value = re.search(regex, text)\n",
        "  return text\n",
        "\n",
        "gpstore['Android Ver'] = gpstore['Android Ver'].apply(append_by_regex)\n",
        "gpstore['Android Ver'] = gpstore['Android Ver'].str.strip()\n",
        "gpstore['Android Ver'].value_counts(dropna=False)"
      ],
      "execution_count": 0,
      "outputs": [
        {
          "output_type": "execute_result",
          "data": {
            "text/plain": [
              "4.1.0 - latest        2042\n",
              "4.0.3 - latest        1311\n",
              "4.0.0 - latest        1218\n",
              "Varies with device     752\n",
              "4.4.0 - latest         710\n",
              "2.3.0 - latest         594\n",
              "5.0.0 - latest         453\n",
              "4.2.0 - latest         354\n",
              "2.3.3 - latest         264\n",
              "2.2.0 - latest         234\n",
              "3.0.0 - latest         221\n",
              "4.3.0 - latest         206\n",
              "2.1.0 - latest         132\n",
              "1.6.0 - latest         116\n",
              "6.0.0 - latest          51\n",
              "7.0.0 - latest          42\n",
              "3.2.0 - latest          36\n",
              "2.0.0 - latest          32\n",
              "5.1.0 - latest          21\n",
              "1.5.0 - latest          20\n",
              "4.4W.0 - latest         10\n",
              "3.1.0 - latest          10\n",
              "2.0.1 - latest           7\n",
              "8.0.0 - latest           6\n",
              "7.1.0 - latest           3\n",
              "1.0.0 - latest           2\n",
              "4.0.3 - 7.1.1            2\n",
              "5.0.0 - 8.0.0            2\n",
              "7.0.0 - 7.1.1            1\n",
              "5.0.0 - 7.1.1            1\n",
              "5.0.0 - 6.0.0            1\n",
              "2.2.0 - 7.1.1            1\n",
              "4.1.0 - 7.1.1            1\n",
              "Name: Android Ver, dtype: int64"
            ]
          },
          "metadata": {
            "tags": []
          },
          "execution_count": 37
        }
      ]
    },
    {
      "cell_type": "code",
      "metadata": {
        "colab_type": "code",
        "outputId": "901a4085-2f54-4e6c-e2a5-26e3f32abe6e",
        "id": "7RNltFtJXETG",
        "colab": {
          "base_uri": "https://localhost:8080/"
        }
      },
      "source": [
        "# Handle \"Varies with device\"\n",
        "\n",
        "# split each value in Android Ver column into two columns Android MinVer and Android MaxVer\n",
        "gpstore['Android MinVer'] = gpstore['Android Ver'].str.split('-').str[0].str.strip()\n",
        "gpstore['Android MaxVer'] = gpstore['Android Ver'].str.split('-').str[1].str.strip()\n",
        "\n",
        "# When there's not \"-\" in Android Ver string (in case Android Ver value is \"Varies with device\")\n",
        "# Android MinVer values will be assigned with \"Varies with device\", so we re-assign theses values with NaN\n",
        "gpstore['Android MinVer'].replace('Varies with device', np.NaN, inplace=True)\n",
        "\n",
        "# Fillna in Android MinVer with min of non-null values in Android MinVer\n",
        "gpstore['Android MinVer'].fillna(gpstore['Android MinVer'].dropna().min(), inplace=True)\n",
        "\n",
        "# Fillna in Android MaxVer with max of non-null values in Android MaxVer\n",
        "gpstore['Android MaxVer'].fillna(gpstore['Android MaxVer'].dropna().max(), inplace=True)\n",
        "\n",
        "# Replace \"- latest\" with and up to restore the original form of Android Ver\n",
        "gpstore['Android Ver'] = gpstore['Android Ver'].str.replace('- latest', \"and up\")\n",
        "gpstore.head()"
      ],
      "execution_count": 0,
      "outputs": [
        {
          "output_type": "execute_result",
          "data": {
            "text/html": [
              "<div>\n",
              "<style scoped>\n",
              "    .dataframe tbody tr th:only-of-type {\n",
              "        vertical-align: middle;\n",
              "    }\n",
              "\n",
              "    .dataframe tbody tr th {\n",
              "        vertical-align: top;\n",
              "    }\n",
              "\n",
              "    .dataframe thead th {\n",
              "        text-align: right;\n",
              "    }\n",
              "</style>\n",
              "<table border=\"1\" class=\"dataframe\">\n",
              "  <thead>\n",
              "    <tr style=\"text-align: right;\">\n",
              "      <th></th>\n",
              "      <th>App</th>\n",
              "      <th>Category</th>\n",
              "      <th>Rating</th>\n",
              "      <th>Reviews</th>\n",
              "      <th>Size</th>\n",
              "      <th>Installs</th>\n",
              "      <th>Type</th>\n",
              "      <th>Price</th>\n",
              "      <th>Content Rating</th>\n",
              "      <th>Genres</th>\n",
              "      <th>Last Updated</th>\n",
              "      <th>Current Ver</th>\n",
              "      <th>Android Ver</th>\n",
              "      <th>Price in $</th>\n",
              "      <th>Android MinVer</th>\n",
              "      <th>Android MaxVer</th>\n",
              "    </tr>\n",
              "  </thead>\n",
              "  <tbody>\n",
              "    <tr>\n",
              "      <th>0</th>\n",
              "      <td>Photo Editor &amp; Candy Camera &amp; Grid &amp; ScrapBook</td>\n",
              "      <td>ART_AND_DESIGN</td>\n",
              "      <td>4.1</td>\n",
              "      <td>159</td>\n",
              "      <td>19M</td>\n",
              "      <td>10,000+</td>\n",
              "      <td>Free</td>\n",
              "      <td>0</td>\n",
              "      <td>Everyone</td>\n",
              "      <td>Art &amp; Design</td>\n",
              "      <td>January 7, 2018</td>\n",
              "      <td>1.0.0</td>\n",
              "      <td>4.0.3 and up</td>\n",
              "      <td>0.0</td>\n",
              "      <td>4.0.3</td>\n",
              "      <td>latest</td>\n",
              "    </tr>\n",
              "    <tr>\n",
              "      <th>2</th>\n",
              "      <td>U Launcher Lite – FREE Live Cool Themes, Hide ...</td>\n",
              "      <td>ART_AND_DESIGN</td>\n",
              "      <td>4.7</td>\n",
              "      <td>87510</td>\n",
              "      <td>8.7M</td>\n",
              "      <td>5,000,000+</td>\n",
              "      <td>Free</td>\n",
              "      <td>0</td>\n",
              "      <td>Everyone</td>\n",
              "      <td>Art &amp; Design</td>\n",
              "      <td>August 1, 2018</td>\n",
              "      <td>1.2.4</td>\n",
              "      <td>4.0.3 and up</td>\n",
              "      <td>0.0</td>\n",
              "      <td>4.0.3</td>\n",
              "      <td>latest</td>\n",
              "    </tr>\n",
              "    <tr>\n",
              "      <th>3</th>\n",
              "      <td>Sketch - Draw &amp; Paint</td>\n",
              "      <td>ART_AND_DESIGN</td>\n",
              "      <td>4.5</td>\n",
              "      <td>215644</td>\n",
              "      <td>25M</td>\n",
              "      <td>50,000,000+</td>\n",
              "      <td>Free</td>\n",
              "      <td>0</td>\n",
              "      <td>Teen</td>\n",
              "      <td>Art &amp; Design</td>\n",
              "      <td>June 8, 2018</td>\n",
              "      <td>Varies with device</td>\n",
              "      <td>4.2.0 and up</td>\n",
              "      <td>0.0</td>\n",
              "      <td>4.2.0</td>\n",
              "      <td>latest</td>\n",
              "    </tr>\n",
              "    <tr>\n",
              "      <th>4</th>\n",
              "      <td>Pixel Draw - Number Art Coloring Book</td>\n",
              "      <td>ART_AND_DESIGN</td>\n",
              "      <td>4.3</td>\n",
              "      <td>967</td>\n",
              "      <td>2.8M</td>\n",
              "      <td>100,000+</td>\n",
              "      <td>Free</td>\n",
              "      <td>0</td>\n",
              "      <td>Everyone</td>\n",
              "      <td>Art &amp; Design;Creativity</td>\n",
              "      <td>June 20, 2018</td>\n",
              "      <td>1.1</td>\n",
              "      <td>4.4.0 and up</td>\n",
              "      <td>0.0</td>\n",
              "      <td>4.4.0</td>\n",
              "      <td>latest</td>\n",
              "    </tr>\n",
              "    <tr>\n",
              "      <th>5</th>\n",
              "      <td>Paper flowers instructions</td>\n",
              "      <td>ART_AND_DESIGN</td>\n",
              "      <td>4.4</td>\n",
              "      <td>167</td>\n",
              "      <td>5.6M</td>\n",
              "      <td>50,000+</td>\n",
              "      <td>Free</td>\n",
              "      <td>0</td>\n",
              "      <td>Everyone</td>\n",
              "      <td>Art &amp; Design</td>\n",
              "      <td>March 26, 2017</td>\n",
              "      <td>1.0</td>\n",
              "      <td>2.3.0 and up</td>\n",
              "      <td>0.0</td>\n",
              "      <td>2.3.0</td>\n",
              "      <td>latest</td>\n",
              "    </tr>\n",
              "  </tbody>\n",
              "</table>\n",
              "</div>"
            ],
            "text/plain": [
              "                                                 App  ... Android MaxVer\n",
              "0     Photo Editor & Candy Camera & Grid & ScrapBook  ...         latest\n",
              "2  U Launcher Lite – FREE Live Cool Themes, Hide ...  ...         latest\n",
              "3                              Sketch - Draw & Paint  ...         latest\n",
              "4              Pixel Draw - Number Art Coloring Book  ...         latest\n",
              "5                         Paper flowers instructions  ...         latest\n",
              "\n",
              "[5 rows x 16 columns]"
            ]
          },
          "metadata": {
            "tags": []
          },
          "execution_count": 38
        }
      ]
    },
    {
      "cell_type": "code",
      "metadata": {
        "id": "7djesguKCKZO",
        "colab_type": "code",
        "outputId": "d219e660-180e-422e-fbf5-86124ce8563a",
        "colab": {
          "base_uri": "https://localhost:8080/"
        }
      },
      "source": [
        "# check our dataframe\n",
        "gpstore.info()"
      ],
      "execution_count": 0,
      "outputs": [
        {
          "output_type": "stream",
          "text": [
            "<class 'pandas.core.frame.DataFrame'>\n",
            "Int64Index: 8856 entries, 0 to 10840\n",
            "Data columns (total 16 columns):\n",
            "App               8856 non-null object\n",
            "Category          8856 non-null object\n",
            "Rating            8856 non-null float64\n",
            "Reviews           8856 non-null object\n",
            "Size              8856 non-null object\n",
            "Installs          8856 non-null object\n",
            "Type              8856 non-null object\n",
            "Price             8856 non-null object\n",
            "Content Rating    8856 non-null object\n",
            "Genres            8856 non-null object\n",
            "Last Updated      8856 non-null object\n",
            "Current Ver       8856 non-null object\n",
            "Android Ver       8856 non-null object\n",
            "Price in $        8856 non-null float64\n",
            "Android MinVer    8856 non-null object\n",
            "Android MaxVer    8856 non-null object\n",
            "dtypes: float64(2), object(14)\n",
            "memory usage: 1.1+ MB\n"
          ],
          "name": "stdout"
        }
      ]
    },
    {
      "cell_type": "markdown",
      "metadata": {
        "id": "SmU5hkAh9sQ7",
        "colab_type": "text"
      },
      "source": [
        "#### Install"
      ]
    },
    {
      "cell_type": "code",
      "metadata": {
        "id": "k4qjr9sZCIpf",
        "colab_type": "code",
        "outputId": "53b0c20a-2f55-4e50-f993-80097cf673d2",
        "colab": {
          "base_uri": "https://localhost:8080/"
        }
      },
      "source": [
        "gpstore['Installs'].value_counts()"
      ],
      "execution_count": 0,
      "outputs": [
        {
          "output_type": "execute_result",
          "data": {
            "text/plain": [
              "1,000,000+        1280\n",
              "100,000+          1063\n",
              "10,000+           1008\n",
              "1,000+             868\n",
              "10,000,000+        715\n",
              "100+               701\n",
              "5,000,000+         516\n",
              "500,000+           472\n",
              "5,000+             461\n",
              "50,000+            460\n",
              "10+                384\n",
              "500+               325\n",
              "50+                203\n",
              "50,000,000+        147\n",
              "100,000,000+        84\n",
              "5+                  82\n",
              "1+                  67\n",
              "0+                  14\n",
              "500,000,000+         4\n",
              "1,000,000,000+       2\n",
              "Name: Installs, dtype: int64"
            ]
          },
          "metadata": {
            "tags": []
          },
          "execution_count": 40
        }
      ]
    },
    {
      "cell_type": "code",
      "metadata": {
        "id": "AkHQAmDwB7f6",
        "colab_type": "code",
        "outputId": "c5f144a7-b85a-48fc-c9aa-366db88b2839",
        "colab": {
          "base_uri": "https://localhost:8080/"
        }
      },
      "source": [
        "# Installs column's dtype is dtype('O') which is Python type string\n",
        "gpstore['Installs'].dtype"
      ],
      "execution_count": 0,
      "outputs": [
        {
          "output_type": "execute_result",
          "data": {
            "text/plain": [
              "dtype('O')"
            ]
          },
          "metadata": {
            "tags": []
          },
          "execution_count": 41
        }
      ]
    },
    {
      "cell_type": "code",
      "metadata": {
        "id": "iyXP_4tD75Yk",
        "colab_type": "code",
        "colab": {}
      },
      "source": [
        "# The number of installations of each app can be equal or greater than the value in Installs column\n",
        "# So we create Installs At Least column having numeric value of the number of installations at least\n",
        "gpstore['Installs At Least'] = gpstore['Installs'].replace('[^0-9]', '', regex=True).astype(int)"
      ],
      "execution_count": 0,
      "outputs": []
    },
    {
      "cell_type": "code",
      "metadata": {
        "id": "vRUvSOX8CYWE",
        "colab_type": "code",
        "outputId": "db8f794a-7404-4935-ead5-26b445e497a3",
        "colab": {
          "base_uri": "https://localhost:8080/"
        }
      },
      "source": [
        "gpstore['Installs At Least'].value_counts()"
      ],
      "execution_count": 0,
      "outputs": [
        {
          "output_type": "execute_result",
          "data": {
            "text/plain": [
              "1000000       1280\n",
              "100000        1063\n",
              "10000         1008\n",
              "1000           868\n",
              "10000000       715\n",
              "100            701\n",
              "5000000        516\n",
              "500000         472\n",
              "5000           461\n",
              "50000          460\n",
              "10             384\n",
              "500            325\n",
              "50             203\n",
              "50000000       147\n",
              "100000000       84\n",
              "5               82\n",
              "1               67\n",
              "0               14\n",
              "500000000        4\n",
              "1000000000       2\n",
              "Name: Installs At Least, dtype: int64"
            ]
          },
          "metadata": {
            "tags": []
          },
          "execution_count": 43
        }
      ]
    },
    {
      "cell_type": "markdown",
      "metadata": {
        "id": "HMZ-Xz9pBtDd",
        "colab_type": "text"
      },
      "source": [
        "#### Size"
      ]
    },
    {
      "cell_type": "code",
      "metadata": {
        "id": "wXHTo5CkD6NA",
        "colab_type": "code",
        "outputId": "33b42ad2-1727-4ec5-cb1e-c12e36baf228",
        "colab": {
          "base_uri": "https://localhost:8080/",
          "height": 1000
        }
      },
      "source": [
        "gpstore['Size'].value_counts()"
      ],
      "execution_count": 0,
      "outputs": [
        {
          "output_type": "execute_result",
          "data": {
            "text/plain": [
              "Varies with device    935\n",
              "11M                   171\n",
              "12M                   170\n",
              "13M                   165\n",
              "14M                   163\n",
              "15M                   149\n",
              "26M                   136\n",
              "17M                   131\n",
              "16M                   128\n",
              "10M                   123\n",
              "21M                   117\n",
              "19M                   113\n",
              "18M                   110\n",
              "20M                   109\n",
              "25M                   104\n",
              "24M                   102\n",
              "22M                    94\n",
              "23M                    94\n",
              "27M                    86\n",
              "29M                    86\n",
              "28M                    85\n",
              "30M                    82\n",
              "3.3M                   70\n",
              "2.3M                   67\n",
              "2.5M                   67\n",
              "33M                    67\n",
              "2.9M                   65\n",
              "2.8M                   65\n",
              "31M                    64\n",
              "3.4M                   63\n",
              "                     ... \n",
              "108k                    1\n",
              "818k                    1\n",
              "478k                    1\n",
              "314k                    1\n",
              "191k                    1\n",
              "714k                    1\n",
              "459k                    1\n",
              "93k                     1\n",
              "67k                     1\n",
              "525k                    1\n",
              "749k                    1\n",
              "782k                    1\n",
              "809k                    1\n",
              "371k                    1\n",
              "430k                    1\n",
              "458k                    1\n",
              "916k                    1\n",
              "980k                    1\n",
              "73k                     1\n",
              "400k                    1\n",
              "288k                    1\n",
              "963k                    1\n",
              "387k                    1\n",
              "874k                    1\n",
              "245k                    1\n",
              "903k                    1\n",
              "500k                    1\n",
              "24k                     1\n",
              "992k                    1\n",
              "601k                    1\n",
              "Name: Size, Length: 460, dtype: int64"
            ]
          },
          "metadata": {
            "tags": []
          },
          "execution_count": 44
        }
      ]
    },
    {
      "cell_type": "code",
      "metadata": {
        "id": "XKwgORoIOYgg",
        "colab_type": "code",
        "colab": {}
      },
      "source": [
        "gpstore['Size In Byte'] = gpstore['Size']"
      ],
      "execution_count": 0,
      "outputs": []
    },
    {
      "cell_type": "code",
      "metadata": {
        "id": "LTVQAYcCfvuY",
        "colab_type": "code",
        "colab": {}
      },
      "source": [
        "import re"
      ],
      "execution_count": 0,
      "outputs": []
    },
    {
      "cell_type": "code",
      "metadata": {
        "id": "kDFjT4xjD8kl",
        "colab_type": "code",
        "colab": {}
      },
      "source": [
        "index_list = gpstore.index.values.tolist()\n",
        "for indx in index_list:\n",
        "  old_value = gpstore.at[indx, 'Size In Byte']\n",
        "  if (old_value == 'Varies with device'):\n",
        "    continue\n",
        "  old_value_abs = re.findall('\\d+\\.*\\d*', old_value)\n",
        "  # Check to make sure only 1 number value\n",
        "  if (len(old_value_abs) != 1):\n",
        "    print(old_value)\n",
        "  old_value_unit = re.findall('[^\\d\\W]$', old_value)\n",
        "#   print(old_value_unit)\n",
        "  new_value = 0\n",
        "  if old_value_unit[0] == 'M':\n",
        "    new_value = float(old_value_abs[0]) * 1000000\n",
        "  elif old_value_unit[0] == 'k':\n",
        "    new_value = float(old_value_abs[0]) * 1000\n",
        "  else:\n",
        "    print(\"Error: undefine unit \", old_value_unit)\n",
        "  gpstore.at[indx, 'Size In Byte'] = new_value"
      ],
      "execution_count": 0,
      "outputs": []
    },
    {
      "cell_type": "markdown",
      "metadata": {
        "id": "aAcitzI_kId6",
        "colab_type": "text"
      },
      "source": [
        "Now we update \"Varies with device\" size by mean value of each category"
      ]
    },
    {
      "cell_type": "code",
      "metadata": {
        "id": "vbRZuA2zkE57",
        "colab_type": "code",
        "colab": {}
      },
      "source": [
        "cate_list = gpstore['Category'].unique().tolist()\n",
        "gpstore['Size In Byte'].replace(to_replace='Varies with device', value=np.nan, inplace=True)\n",
        "gpstore['Size In Byte'].astype('category', inplace=True)\n",
        "for cate in cate_list:\n",
        "  cate_size_mean = round(gpstore[gpstore['Category'] == cate]['Size In Byte'].mean(), 1)\n",
        "  gpstore[gpstore['Category'] == cate] = gpstore[gpstore['Category'] == cate].fillna(cate_size_mean)\n",
        "  "
      ],
      "execution_count": 0,
      "outputs": []
    },
    {
      "cell_type": "code",
      "metadata": {
        "id": "R_ZxcI89t7Or",
        "colab_type": "code",
        "outputId": "5f78512a-8c63-494a-f3b2-a53674de4c3d",
        "colab": {
          "base_uri": "https://localhost:8080/",
          "height": 431
        }
      },
      "source": [
        "gpstore.info()"
      ],
      "execution_count": 0,
      "outputs": [
        {
          "output_type": "stream",
          "text": [
            "<class 'pandas.core.frame.DataFrame'>\n",
            "Int64Index: 8856 entries, 0 to 10840\n",
            "Data columns (total 18 columns):\n",
            "App                  8856 non-null object\n",
            "Category             8856 non-null object\n",
            "Rating               8856 non-null float64\n",
            "Reviews              8856 non-null object\n",
            "Size                 8856 non-null object\n",
            "Installs             8856 non-null object\n",
            "Type                 8856 non-null object\n",
            "Price                8856 non-null object\n",
            "Content Rating       8856 non-null object\n",
            "Genres               8856 non-null object\n",
            "Last Updated         8856 non-null object\n",
            "Current Ver          8856 non-null object\n",
            "Android Ver          8856 non-null object\n",
            "Price in $           8856 non-null float64\n",
            "Android MinVer       8856 non-null object\n",
            "Android MaxVer       8856 non-null object\n",
            "Installs At Least    8856 non-null int64\n",
            "Size In Byte         8856 non-null float64\n",
            "dtypes: float64(3), int64(1), object(14)\n",
            "memory usage: 1.6+ MB\n"
          ],
          "name": "stdout"
        }
      ]
    },
    {
      "cell_type": "markdown",
      "metadata": {
        "id": "lBAMmfM5zpW6",
        "colab_type": "text"
      },
      "source": [
        "## Let draw some figure"
      ]
    },
    {
      "cell_type": "code",
      "metadata": {
        "id": "F_C8WpInzunW",
        "colab_type": "code",
        "outputId": "e1db9baa-2862-4725-9364-a9e076f1b4f1",
        "colab": {
          "base_uri": "https://localhost:8080/",
          "height": 627
        }
      },
      "source": [
        "plt.figure(figsize=(16, 10))\n",
        "sns.barplot(data=gpstore, y='Category', x='Installs At Least')"
      ],
      "execution_count": 0,
      "outputs": [
        {
          "output_type": "execute_result",
          "data": {
            "text/plain": [
              "<matplotlib.axes._subplots.AxesSubplot at 0x7f50e047ab70>"
            ]
          },
          "metadata": {
            "tags": []
          },
          "execution_count": 50
        },
        {
          "output_type": "display_data",
          "data": {
            "image/png": "[encoded data removed]",
            "text/plain": [
              "<Figure size 1152x720 with 1 Axes>"
            ]
          },
          "metadata": {
            "tags": []
          }
        }
      ]
    },
    {
      "cell_type": "code",
      "metadata": {
        "id": "ONSf4l7l3NOE",
        "colab_type": "code",
        "outputId": "563a14a0-e9e3-4454-e4c9-88ef9768162f",
        "colab": {
          "base_uri": "https://localhost:8080/",
          "height": 301
        }
      },
      "source": [
        "sns.barplot(data=gpstore, y='Type', x='Installs At Least')"
      ],
      "execution_count": 0,
      "outputs": [
        {
          "output_type": "execute_result",
          "data": {
            "text/plain": [
              "<matplotlib.axes._subplots.AxesSubplot at 0x7f50e06b29b0>"
            ]
          },
          "metadata": {
            "tags": []
          },
          "execution_count": 51
        },
        {
          "output_type": "display_data",
          "data": {
            "image/png": "[encoded data removed]",
            "text/plain": [
              "<Figure size 432x288 with 1 Axes>"
            ]
          },
          "metadata": {
            "tags": []
          }
        }
      ]
    },
    {
      "cell_type": "code",
      "metadata": {
        "id": "A7PKsXs03dnR",
        "colab_type": "code",
        "outputId": "a98a7ff5-0b90-453d-bb82-1239be778daf",
        "colab": {
          "base_uri": "https://localhost:8080/",
          "height": 301
        }
      },
      "source": [
        "sns.lineplot(data=gpstore, x='Price in $', y='Installs At Least')"
      ],
      "execution_count": 0,
      "outputs": [
        {
          "output_type": "execute_result",
          "data": {
            "text/plain": [
              "<matplotlib.axes._subplots.AxesSubplot at 0x7f50e067a2e8>"
            ]
          },
          "metadata": {
            "tags": []
          },
          "execution_count": 52
        },
        {
          "output_type": "display_data",
          "data": {
            "image/png": "[encoded data removed]",
            "text/plain": [
              "<Figure size 432x288 with 1 Axes>"
            ]
          },
          "metadata": {
            "tags": []
          }
        }
      ]
    },
    {
      "cell_type": "code",
      "metadata": {
        "id": "JiC5TsSE3xoG",
        "colab_type": "code",
        "outputId": "ba9b5b60-1025-4588-c214-d56f3b705132",
        "colab": {
          "base_uri": "https://localhost:8080/",
          "height": 308
        }
      },
      "source": [
        "sns.lineplot(data=gpstore, x='Size', y='Installs At Least')"
      ],
      "execution_count": 0,
      "outputs": [
        {
          "output_type": "execute_result",
          "data": {
            "text/plain": [
              "<matplotlib.axes._subplots.AxesSubplot at 0x7f50e05f3908>"
            ]
          },
          "metadata": {
            "tags": []
          },
          "execution_count": 53
        },
        {
          "output_type": "display_data",
          "data": {
            "image/png": "[encoded data removed]",
            "text/plain": [
              "<Figure size 432x288 with 1 Axes>"
            ]
          },
          "metadata": {
            "tags": []
          }
        }
      ]
    },
    {
      "cell_type": "code",
      "metadata": {
        "id": "KfNyPD0O46Q0",
        "colab_type": "code",
        "outputId": "27f41e3b-6672-46cc-de13-57c6004bd7de",
        "colab": {
          "base_uri": "https://localhost:8080/",
          "height": 357
        }
      },
      "source": [
        "sns.heatmap(gpstore.corr(), annot=True, cmap='YlGn_r')"
      ],
      "execution_count": 0,
      "outputs": [
        {
          "output_type": "execute_result",
          "data": {
            "text/plain": [
              "<matplotlib.axes._subplots.AxesSubplot at 0x7f50dbf4e978>"
            ]
          },
          "metadata": {
            "tags": []
          },
          "execution_count": 54
        },
        {
          "output_type": "display_data",
          "data": {
            "image/png": "[encoded data removed]",
            "text/plain": [
              "<Figure size 432x288 with 2 Axes>"
            ]
          },
          "metadata": {
            "tags": []
          }
        }
      ]
    },
    {
      "cell_type": "code",
      "metadata": {
        "id": "hHmEtrYJ5hwa",
        "colab_type": "code",
        "outputId": "e9bf991a-cee7-45eb-84d6-a0a5b465bc41",
        "colab": {
          "base_uri": "https://localhost:8080/",
          "height": 355
        }
      },
      "source": [
        "plt.figure(figsize=(20, 5))\n",
        "sns.countplot(data=gpstore, x='Android MinVer')"
      ],
      "execution_count": 0,
      "outputs": [
        {
          "output_type": "execute_result",
          "data": {
            "text/plain": [
              "<matplotlib.axes._subplots.AxesSubplot at 0x7f50dbf155c0>"
            ]
          },
          "metadata": {
            "tags": []
          },
          "execution_count": 55
        },
        {
          "output_type": "display_data",
          "data": {
            "image/png": "[encoded data removed]",
            "text/plain": [
              "<Figure size 1440x360 with 1 Axes>"
            ]
          },
          "metadata": {
            "tags": []
          }
        }
      ]
    },
    {
      "cell_type": "code",
      "metadata": {
        "id": "RV31h4KW6Jjw",
        "colab_type": "code",
        "outputId": "bc3cd484-51ef-48c0-e5de-21bad0656373",
        "colab": {
          "base_uri": "https://localhost:8080/",
          "height": 355
        }
      },
      "source": [
        "plt.figure(figsize=(20, 5))\n",
        "sns.countplot(data=gpstore, x='Android MaxVer')"
      ],
      "execution_count": 0,
      "outputs": [
        {
          "output_type": "execute_result",
          "data": {
            "text/plain": [
              "<matplotlib.axes._subplots.AxesSubplot at 0x7f50dbec6b38>"
            ]
          },
          "metadata": {
            "tags": []
          },
          "execution_count": 56
        },
        {
          "output_type": "display_data",
          "data": {
            "image/png": "[encoded data removed]",
            "text/plain": [
              "<Figure size 1440x360 with 1 Axes>"
            ]
          },
          "metadata": {
            "tags": []
          }
        }
      ]
    },
    {
      "cell_type": "markdown",
      "metadata": {
        "id": "jSqG6-vrHtH-",
        "colab_type": "text"
      },
      "source": [
        "## 3. Make Google sheets file"
      ]
    },
    {
      "cell_type": "code",
      "metadata": {
        "id": "oBCbLgauJGAx",
        "colab_type": "code",
        "colab": {}
      },
      "source": [
        "gc = gspread.authorize(GoogleCredentials.get_application_default()) #grant access to google drive "
      ],
      "execution_count": 0,
      "outputs": []
    },
    {
      "cell_type": "code",
      "metadata": {
        "id": "bjCjXGxPH8Xc",
        "colab_type": "code",
        "colab": {}
      },
      "source": [
        "def check_exists(path):\n",
        "  try:\n",
        "    sh = gc.open(path)\n",
        "    return True\n",
        "  except:\n",
        "    return False\n",
        "\n",
        "def create_new_worksheet(path='worksheet', sheets={\"sheet1\":\"\"}):\n",
        "    if check_exists(path):\n",
        "        print('create_new_worksheet(): File exists')\n",
        "        return gc.open(path)\n",
        "    sh = gc.create(path)\n",
        "    for name, cols in sheets.items():\n",
        "        sh.add_worksheet(title=name, rows=\"100\", cols=\"100\")\n",
        "        sh.values_update(\n",
        "            name + '!A1',\n",
        "            params={'valueInputOption': 'RAW'},\n",
        "            body={'values': [cols]}\n",
        "        )      \n",
        "    sh.del_worksheet(sh.sheet1)\n",
        "    return sh"
      ],
      "execution_count": 0,
      "outputs": []
    },
    {
      "cell_type": "code",
      "metadata": {
        "id": "5mUGtuysIOE3",
        "colab_type": "code",
        "colab": {}
      },
      "source": [
        "sheets = {\n",
        "    'Google Play Store': gpstore.columns.values.tolist()\n",
        "}\n",
        "sh = create_new_worksheet('Google Play Store', sheets)"
      ],
      "execution_count": 0,
      "outputs": []
    },
    {
      "cell_type": "code",
      "metadata": {
        "id": "Xybxj1HZJAfe",
        "colab_type": "code",
        "outputId": "007cdace-b4fa-41fe-b4cf-e0f45c3561f6",
        "colab": {
          "base_uri": "https://localhost:8080/",
          "height": 107
        }
      },
      "source": [
        "sh.values_update(\n",
        "  'Google Play Store!A2',\n",
        "    params={'valueInputOption': 'RAW'},\n",
        "    body={'values': gpstore.fillna('').values.tolist()}\n",
        ")"
      ],
      "execution_count": 0,
      "outputs": [
        {
          "output_type": "execute_result",
          "data": {
            "text/plain": [
              "{'spreadsheetId': '1yKtvCzuPXKPejRDgEnPztYjJI1knjGVRIizxTFDfMxo',\n",
              " 'updatedCells': 159408,\n",
              " 'updatedColumns': 18,\n",
              " 'updatedRange': \"'Google Play Store'!A2:R8857\",\n",
              " 'updatedRows': 8856}"
            ]
          },
          "metadata": {
            "tags": []
          },
          "execution_count": 60
        }
      ]
    },
    {
      "cell_type": "code",
      "metadata": {
        "id": "d6Exrc40Jfjd",
        "colab_type": "code",
        "colab": {}
      },
      "source": [
        ""
      ],
      "execution_count": 0,
      "outputs": []
    }
  ]
}